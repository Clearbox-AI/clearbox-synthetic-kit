{
 "cells": [
  {
   "cell_type": "markdown",
   "metadata": {},
   "source": [
    "# Time-series synthetic data \n",
    "### A generation and evaluation example with **Clearbox Engine**\n",
    "\n",
    "This notebook walks you through the time-series synthetic data generation and evaluation process with **Clearbox Engine**.\n",
    "\n",
    "You can run this notebook on Google Colab or on your local machine.<br> \n",
    "In the second case, we highly recommend to create a dedicated virtual environment.\n",
    "\n",
    "<div class=\"alert alert-secondary\">\n",
    "To run this notebook, make sure you change the runtime to <strong>GPU</strong><br>\n",
    "<hr>\n",
    "<strong>Runtime</strong> --> <strong>Change Runtime Type</strong> <br>\n",
    "and set <strong>Hardware Accelerator</strong> to \"<strong>GPU</strong>\"\n",
    "</div>"
   ]
  },
  {
   "cell_type": "code",
   "execution_count": null,
   "metadata": {},
   "outputs": [],
   "source": [
    "# Install the library and its dependencies\n",
    "\n",
    "%pip install clearbox-synthetic-kit"
   ]
  },
  {
   "cell_type": "code",
   "execution_count": 70,
   "metadata": {},
   "outputs": [],
   "source": [
    "# Import necessary dependencies\n",
    "import os\n",
    "import numpy as np\n",
    "import pandas as pd\n",
    "import matplotlib.pyplot as plt\n",
    "from tqdm import tqdm\n",
    "from clearbox_synthetic.utils import Dataset, Preprocessor\n",
    "\n",
    "from clearbox_synthetic.generation import TimeSeriesEngine"
   ]
  },
  {
   "cell_type": "markdown",
   "metadata": {},
   "source": [
    "## 0. Data import and preparation"
   ]
  },
  {
   "cell_type": "code",
   "execution_count": 3,
   "metadata": {},
   "outputs": [],
   "source": [
    "\n",
    "train_dataset = Dataset.from_csv('./data/daily_delhi_climate/DailyDelhiClimateTrain.csv')"
   ]
  },
  {
   "cell_type": "markdown",
   "metadata": {},
   "source": [
    "### Data pre-processing\n",
    "Datasets are pre-processd with the **Preprocessor** class, which prepares data for the subsequent steps."
   ]
  },
  {
   "cell_type": "code",
   "execution_count": 4,
   "metadata": {},
   "outputs": [
    {
     "name": "stdout",
     "output_type": "stream",
     "text": [
      "Time series id found in the dataset: 49\n",
      "Number of time series channels found in the dataset: 4\n",
      "Max time series length: 32\n"
     ]
    }
   ],
   "source": [
    "# Adding a time index column with year and month, as \"yyyymm\"\n",
    "train_dataset.data['id'] =train_dataset.data['date'].apply(lambda x: ''.join(x.split('-')[0:2]))\n",
    "prepro = Preprocessor(train_dataset, time_index='id', meta_columns=['date'])\n",
    "X_train, meta = prepro.transform(train_dataset.data)\n",
    "\n",
    "ts_id = train_dataset.data['id'].unique().shape[0]\n",
    "print(f\"Time series id found in the dataset: {ts_id}\")\n",
    "print(f\"Number of time series channels found in the dataset: {prepro.n_time_features}\")\n",
    "print(f\"Max time series length: {prepro.max_sequence_length}\")"
   ]
  },
  {
   "cell_type": "code",
   "execution_count": null,
   "metadata": {},
   "outputs": [],
   "source": []
  },
  {
   "cell_type": "markdown",
   "metadata": {},
   "source": [
    "## 1. Synhetic Data Generation"
   ]
  },
  {
   "cell_type": "code",
   "execution_count": 6,
   "metadata": {},
   "outputs": [
    {
     "name": "stderr",
     "output_type": "stream",
     "text": [
      "An NVIDIA GPU may be present on this machine, but a CUDA-enabled jaxlib is not installed. Falling back to cpu.\n"
     ]
    },
    {
     "name": "stdout",
     "output_type": "stream",
     "text": [
      "(1, 32, 4)\n",
      "(1, 32, 4)\n"
     ]
    }
   ],
   "source": [
    "# Initializing the time series generator\n",
    "\n",
    "engine = TimeSeriesEngine(\n",
    "    layers_size=[40],\n",
    "    feature_sizes=prepro.n_time_features, # number of features\n",
    "    max_sequence_length=prepro.max_sequence_length, # max time series length\n",
    "    num_heads=4\n",
    ")"
   ]
  },
  {
   "cell_type": "code",
   "execution_count": 7,
   "metadata": {},
   "outputs": [
    {
     "name": "stdout",
     "output_type": "stream",
     "text": [
      "Number of parameters (encoder): 26996\n",
      "Number of parameters (decoder): 25120\n"
     ]
    }
   ],
   "source": [
    "import jax.numpy as jnp\n",
    "\n",
    "def count_parameters(params_dict):\n",
    "    total_count = 0\n",
    "    for key, value in params_dict.items():\n",
    "        if isinstance(value, dict):  # If the value is another dictionary, recurse\n",
    "            total_count += count_parameters(value)\n",
    "        elif isinstance(value, jnp.ndarray):  # If the value is an array, count parameters\n",
    "            total_count += value.size\n",
    "    return total_count\n",
    "\n",
    "# Count the total number of parameters\n",
    "\n",
    "total_params = count_parameters(engine.params['encoder'])\n",
    "print(\"Number of parameters (encoder):\", total_params)\n",
    "total_params = count_parameters(engine.params['decoder'])\n",
    "print(\"Number of parameters (decoder):\", total_params)"
   ]
  },
  {
   "cell_type": "code",
   "execution_count": 8,
   "metadata": {},
   "outputs": [
    {
     "name": "stderr",
     "output_type": "stream",
     "text": [
      "\r",
      "Engine fitting in progress:   0%|                                                           | 0/5000 [00:00<?, ?epoch/s]"
     ]
    },
    {
     "name": "stdout",
     "output_type": "stream",
     "text": [
      "(49, 32, 4)\n",
      "(49, 32, 4)\n",
      "(1000, 32, 4)\n",
      "(1000, 32, 4)\n"
     ]
    },
    {
     "name": "stderr",
     "output_type": "stream",
     "text": [
      "Engine fitting in progress: 100%|███████████████████████████| 5000/5000 [00:58<00:00, 85.21epoch/s, Train loss=9506.455]\n"
     ]
    }
   ],
   "source": [
    "# Start the training of the tabular synthetic data generator\n",
    "\n",
    "engine.fit(X_train, epochs=5000, learning_rate=0.00001)"
   ]
  },
  {
   "cell_type": "markdown",
   "metadata": {},
   "source": [
    "Reconstructing the data in the original format. In the current version of the library this reconstruction needs to be done manually, working to automate it.\n"
   ]
  },
  {
   "cell_type": "code",
   "execution_count": 82,
   "metadata": {},
   "outputs": [],
   "source": [
    "def generate_series(N):\n",
    "    # Generate the synthetic time series by decoding the samples from a gaussian distribution\n",
    "    synth_data = engine.decode(np.random.randn(N,engine.architecture['layers_size'][0]))  # b.shape[1] dimensione dato da generare\n",
    "    indeces = train_dataset.data[prepro.time_index].sample(N, replace = False).values\n",
    "    df =  prepro.reverse_transform(synth_data)\n",
    "    dfs = []\n",
    "    # Create a dataframe with the original schema\n",
    "    for i in tqdm(range(df.shape[0])):\n",
    "        x_i = df.iloc[i]\n",
    "        time_series = []\n",
    "        for feat_name in prepro.time_columns:\n",
    "            time_series.append(x_i[[j for j in df.columns if feat_name in j]].values)\n",
    "        df_i = pd.DataFrame(np.array(time_series).T)\n",
    "        df_i.columns = prepro.time_columns\n",
    "        \n",
    "        df_i[prepro.time_index] = indeces[i]\n",
    "        dfs.append(df_i)\n",
    "    return pd.concat(dfs, axis= 0)    "
   ]
  },
  {
   "cell_type": "code",
   "execution_count": 83,
   "metadata": {},
   "outputs": [
    {
     "name": "stderr",
     "output_type": "stream",
     "text": [
      "100%|██████████████████████████████████████████████████████████████████████████████████| 10/10 [00:00<00:00, 520.24it/s]\n"
     ]
    }
   ],
   "source": [
    "df = generate_series(10)"
   ]
  },
  {
   "cell_type": "code",
   "execution_count": 84,
   "metadata": {},
   "outputs": [
    {
     "data": {
      "text/html": [
       "<div>\n",
       "<style scoped>\n",
       "    .dataframe tbody tr th:only-of-type {\n",
       "        vertical-align: middle;\n",
       "    }\n",
       "\n",
       "    .dataframe tbody tr th {\n",
       "        vertical-align: top;\n",
       "    }\n",
       "\n",
       "    .dataframe thead th {\n",
       "        text-align: right;\n",
       "    }\n",
       "</style>\n",
       "<table border=\"1\" class=\"dataframe\">\n",
       "  <thead>\n",
       "    <tr style=\"text-align: right;\">\n",
       "      <th></th>\n",
       "      <th>meantemp</th>\n",
       "      <th>humidity</th>\n",
       "      <th>wind_speed</th>\n",
       "      <th>meanpressure</th>\n",
       "      <th>id</th>\n",
       "    </tr>\n",
       "  </thead>\n",
       "  <tbody>\n",
       "    <tr>\n",
       "      <th>0</th>\n",
       "      <td>11.718544</td>\n",
       "      <td>70.293396</td>\n",
       "      <td>6.718538</td>\n",
       "      <td>1077.253906</td>\n",
       "      <td>201603</td>\n",
       "    </tr>\n",
       "    <tr>\n",
       "      <th>1</th>\n",
       "      <td>13.921609</td>\n",
       "      <td>46.658714</td>\n",
       "      <td>3.141367</td>\n",
       "      <td>876.932434</td>\n",
       "      <td>201603</td>\n",
       "    </tr>\n",
       "    <tr>\n",
       "      <th>2</th>\n",
       "      <td>16.129503</td>\n",
       "      <td>68.830276</td>\n",
       "      <td>5.397058</td>\n",
       "      <td>922.216675</td>\n",
       "      <td>201603</td>\n",
       "    </tr>\n",
       "    <tr>\n",
       "      <th>3</th>\n",
       "      <td>17.365017</td>\n",
       "      <td>63.537136</td>\n",
       "      <td>7.632838</td>\n",
       "      <td>1095.543823</td>\n",
       "      <td>201603</td>\n",
       "    </tr>\n",
       "    <tr>\n",
       "      <th>4</th>\n",
       "      <td>18.268507</td>\n",
       "      <td>70.532715</td>\n",
       "      <td>6.232273</td>\n",
       "      <td>990.137939</td>\n",
       "      <td>201603</td>\n",
       "    </tr>\n",
       "    <tr>\n",
       "      <th>...</th>\n",
       "      <td>...</td>\n",
       "      <td>...</td>\n",
       "      <td>...</td>\n",
       "      <td>...</td>\n",
       "      <td>...</td>\n",
       "    </tr>\n",
       "    <tr>\n",
       "      <th>27</th>\n",
       "      <td>26.111961</td>\n",
       "      <td>58.067581</td>\n",
       "      <td>1.958867</td>\n",
       "      <td>1042.641357</td>\n",
       "      <td>201402</td>\n",
       "    </tr>\n",
       "    <tr>\n",
       "      <th>28</th>\n",
       "      <td>26.497934</td>\n",
       "      <td>56.300514</td>\n",
       "      <td>7.197012</td>\n",
       "      <td>1161.903076</td>\n",
       "      <td>201402</td>\n",
       "    </tr>\n",
       "    <tr>\n",
       "      <th>29</th>\n",
       "      <td>28.986565</td>\n",
       "      <td>58.019032</td>\n",
       "      <td>9.456677</td>\n",
       "      <td>951.868347</td>\n",
       "      <td>201402</td>\n",
       "    </tr>\n",
       "    <tr>\n",
       "      <th>30</th>\n",
       "      <td>26.214050</td>\n",
       "      <td>54.053692</td>\n",
       "      <td>7.622200</td>\n",
       "      <td>1023.886047</td>\n",
       "      <td>201402</td>\n",
       "    </tr>\n",
       "    <tr>\n",
       "      <th>31</th>\n",
       "      <td>27.898720</td>\n",
       "      <td>57.271011</td>\n",
       "      <td>9.543268</td>\n",
       "      <td>1005.210693</td>\n",
       "      <td>201402</td>\n",
       "    </tr>\n",
       "  </tbody>\n",
       "</table>\n",
       "<p>320 rows × 5 columns</p>\n",
       "</div>"
      ],
      "text/plain": [
       "     meantemp   humidity  wind_speed  meanpressure      id\n",
       "0   11.718544  70.293396    6.718538   1077.253906  201603\n",
       "1   13.921609  46.658714    3.141367    876.932434  201603\n",
       "2   16.129503  68.830276    5.397058    922.216675  201603\n",
       "3   17.365017  63.537136    7.632838   1095.543823  201603\n",
       "4   18.268507  70.532715    6.232273    990.137939  201603\n",
       "..        ...        ...         ...           ...     ...\n",
       "27  26.111961  58.067581    1.958867   1042.641357  201402\n",
       "28  26.497934  56.300514    7.197012   1161.903076  201402\n",
       "29  28.986565  58.019032    9.456677    951.868347  201402\n",
       "30  26.214050  54.053692    7.622200   1023.886047  201402\n",
       "31  27.898720  57.271011    9.543268   1005.210693  201402\n",
       "\n",
       "[320 rows x 5 columns]"
      ]
     },
     "execution_count": 84,
     "metadata": {},
     "output_type": "execute_result"
    }
   ],
   "source": []
  },
  {
   "cell_type": "code",
   "execution_count": null,
   "metadata": {},
   "outputs": [],
   "source": []
  }
 ],
 "metadata": {
  "kernelspec": {
   "display_name": "Python 3 (ipykernel)",
   "language": "python",
   "name": "python3"
  },
  "language_info": {
   "codemirror_mode": {
    "name": "ipython",
    "version": 3
   },
   "file_extension": ".py",
   "mimetype": "text/x-python",
   "name": "python",
   "nbconvert_exporter": "python",
   "pygments_lexer": "ipython3",
   "version": "3.10.10"
  }
 },
 "nbformat": 4,
 "nbformat_minor": 2
}
