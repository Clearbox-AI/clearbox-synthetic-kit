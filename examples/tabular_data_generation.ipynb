{
 "cells": [
  {
   "cell_type": "markdown",
   "metadata": {},
   "source": [
    "# Tabular synthetic data \n",
    "### A generation and evaluation example with **Clearbox Synthetic Kit**\n",
    "\n",
    "This notebook walks you through the tabular synthetic data generation and evaluation process with **Clearbox Synthetic Kit**.\n",
    "\n",
    "You can run this notebook on Google Colab or on your local machine.<br> \n",
    "In the second case, we highly recommend to create a dedicated virtual environment.\n",
    "\n",
    "To run this notebook, make sure you change the runtime as <br>\n",
    "*Runtime->Change Runtime Type* and set Hardware Accelerator to \"GPU\""
   ]
  },
  {
   "cell_type": "code",
   "execution_count": null,
   "metadata": {},
   "outputs": [],
   "source": [
    "# Install the library and its dependencies\n",
    "\n",
    "%pip install clearbox-synthetic-kit"
   ]
  },
  {
   "cell_type": "code",
   "execution_count": null,
   "metadata": {},
   "outputs": [],
   "source": [
    "# Import necessary dependencies\n",
    "import os\n",
    "\n",
    "import numpy as np\n",
    "import pandas as pd\n",
    "import matplotlib.pyplot as plt\n",
    "\n",
    "from clearbox_synthetic import (\n",
    "        Dataset, \n",
    "        Preprocessor, \n",
    "        TabularEngine, \n",
    "        LabeledSynthesizer, \n",
    "        PrivacyScore\n",
    "    )\n"
   ]
  },
  {
   "cell_type": "markdown",
   "metadata": {},
   "source": [
    "## 0. Data import and preparation"
   ]
  },
  {
   "cell_type": "code",
   "execution_count": null,
   "metadata": {},
   "outputs": [],
   "source": [
    "# Load the example datasets from GitHub\n",
    "\n",
    "file_path = \"https://raw.githubusercontent.com/Clearbox-AI/clearbox-synthetic-kit/main/tests/resources/uci_adult_dataset\"\n",
    "\n",
    "train_dataset = Dataset.from_csv(\n",
    "        os.path.join(file_path, \"dataset.csv\"),\n",
    "        target_column=\"income\",\n",
    "        regression=False\n",
    "    )\n",
    "\n",
    "validation_dataset = Dataset.from_csv(\n",
    "        os.path.join(file_path, \"validation_dataset.csv\"),\n",
    "        column_types=train_dataset.column_types,\n",
    "        target_column=train_dataset.target_column,\n",
    "        regression=train_dataset.regression\n",
    "    )"
   ]
  },
  {
   "cell_type": "markdown",
   "metadata": {},
   "source": [
    "### Data pre-processing\n",
    "Datasets are pre-processd with the **Preprocessor** class, which prepares data for the subsequent steps."
   ]
  },
  {
   "cell_type": "code",
   "execution_count": null,
   "metadata": {},
   "outputs": [],
   "source": [
    "# Preprocessor initialization\n",
    "preprocessor = Preprocessor(train_dataset) \n",
    "\n",
    "# Preprocessing training dataset \n",
    "X_train_raw = train_dataset.get_x() # Get all columns of the training dataset except the target column (y)\n",
    "X_train = preprocessor.transform(X_train_raw)"
   ]
  },
  {
   "cell_type": "code",
   "execution_count": null,
   "metadata": {},
   "outputs": [],
   "source": [
    "# Preprocessing validation dataset\n",
    "\n",
    "X_val_raw = validation_dataset.get_x() # Get all columns of the validation dataset except the target column (y)\n",
    "X_val = preprocessor.transform(X_val_raw)"
   ]
  },
  {
   "cell_type": "code",
   "execution_count": 6,
   "metadata": {},
   "outputs": [],
   "source": [
    "# Normalize the target column (y) of the training dataset if train_dataset.regression is True, otherwise perform one-hot encoding on that column\n",
    "\n",
    "if train_dataset.regression:\n",
    "    Y = train_dataset.get_normalized_y()\n",
    "else:\n",
    "    Y = train_dataset.get_one_hot_encoded_y()"
   ]
  },
  {
   "cell_type": "markdown",
   "metadata": {},
   "source": [
    "## 1. Synhetic Data Generation"
   ]
  },
  {
   "cell_type": "code",
   "execution_count": null,
   "metadata": {},
   "outputs": [],
   "source": [
    "# Initialize the tabular synthetic data generator\n",
    "\n",
    "engine = TabularEngine(\n",
    "    layers_size=[50],\n",
    "    x_shape=X_train[0].shape,\n",
    "    y_shape=Y[0].shape,\n",
    "    numerical_feature_sizes=preprocessor.get_features_sizes()[0],\n",
    "    categorical_feature_sizes=preprocessor.get_features_sizes()[1],\n",
    ")\n",
    "\n",
    "# Start the training of the tabular synthetic data generator\n",
    "\n",
    "engine.fit(X_train, y_train_ds=Y, epochs=5, learning_rate=0.001)"
   ]
  },
  {
   "cell_type": "code",
   "execution_count": 10,
   "metadata": {},
   "outputs": [],
   "source": [
    "# Initilaize the Synthetsizer for data generation\n",
    "\n",
    "synthesizer = LabeledSynthesizer(train_dataset, engine)"
   ]
  },
  {
   "cell_type": "code",
   "execution_count": 11,
   "metadata": {
    "scrolled": true
   },
   "outputs": [],
   "source": [
    "# Generate the syntehtic dataset from the Synthesizer and save it to a .csv file\n",
    "\n",
    "pd_synthetic_dataset = synthesizer.generate(has_header=True)\n",
    "\n",
    "pd_synthetic_dataset.to_csv(\"synthetic_dataset.csv\", index=False)"
   ]
  },
  {
   "cell_type": "code",
   "execution_count": 12,
   "metadata": {},
   "outputs": [],
   "source": [
    "# Load the synethetic dataset\n",
    "\n",
    "synthetic_dataset = Dataset.from_csv(\n",
    "        \"synthetic_dataset.csv\",\n",
    "        column_types=train_dataset.column_types,  \n",
    "        target_column=train_dataset.target_column, \n",
    "        regression=train_dataset.regression\n",
    "    )"
   ]
  },
  {
   "cell_type": "markdown",
   "metadata": {},
   "source": [
    "## 2. Synththic Data Evaluation"
   ]
  },
  {
   "cell_type": "markdown",
   "metadata": {},
   "source": [
    "## 2.1 Privacy evaluation\n",
    "The library features the PrivacyScore class, which computes an overall privacy score of the synthetic dataset including metrics like **Distances to Closest Record** and vulnerability to **Membership Inference Attack simulation**"
   ]
  },
  {
   "cell_type": "code",
   "execution_count": null,
   "metadata": {},
   "outputs": [],
   "source": [
    "privacy_metrics = PrivacyScore(\n",
    "        train_dataset, \n",
    "        synthetic_dataset, \n",
    "        validation_dataset, \n",
    "        preprocessor, \n",
    "        parallel=True\n",
    "    ).get()"
   ]
  },
  {
   "cell_type": "code",
   "execution_count": 19,
   "metadata": {},
   "outputs": [],
   "source": [
    "training_metrics            = privacy_metrics['training_metrics']\n",
    "synthetic_metrics           = privacy_metrics['synthetic_metrics']\n",
    "synthetic_training_metrics  = privacy_metrics['synthetic_training_metrics']\n",
    "synthetic_holdout_metrics   = privacy_metrics['synthetic_holdout_metrics']\n",
    "membership_inference_test   = privacy_metrics['membership_inference_test']"
   ]
  },
  {
   "cell_type": "markdown",
   "metadata": {},
   "source": [
    "### 2.1.1 Distances to Closest Record (DCR)\n",
    "0. The **distance matrix** is calculated between two dataframes that contain mixed data types, including both numerical and categorical variables. This computation leverages a modified version of Gower's distance.\n",
    "\n",
    "1. Following this, the **DCR** (**Distance to Closest Record**) **vector** is then derived by determining the shortest distance between each record in the synthetic dataset and all records in the original dataset.<br>\n",
    "For each synthetic record, the smallest distance among all pairwise distances to records in the original dataset is identified.<br> \n",
    "This step effectively quantifies how closely each synthetic record resembles the original data, with smaller values indicating greater similarity.\n",
    "\n",
    "2. The **distribution of DCR** values is then analyzed to assess the level of anonymization and safety of the synthetic dataset. Specifically:\n",
    "\n",
    "- *Overlap of DCR Distributions*:\n",
    "    \n",
    "    If the distribution of DCR values between the synthetic and training dataset closely overlaps with the distribution of DCR values between the synthetic and holdout dataset, it indicates that the synthetic data does not reveal whether a record from the original dataset was used to train the synthetic data generator. In this case, the synthetic dataset can be considered sufficiently anonymized and safe from reidentification attacks, as there is no evidence that the generator is overfitting to specific records in the training data.\n",
    "\n",
    "- *Lack of Overlap in DCR Distributions*:\n",
    "\n",
    "    Conversely, if the DCR distribution between the synthetic and training dataset differs significantly from that of the synthetic and holdout dataset, it raises concerns about the privacy and anonymization of the synthetic dataset.\n",
    "    \n",
    "    Specifically, if the DCR distribution for the synthetic and training dataset contains a greater proportion of smaller distances (indicating higher similarity) compared to the holdout dataset, this suggests that many synthetic records are too similar to the training records.<br>\n",
    "    This lack of diversity increases the risk of reidentification, even if the synthetic dataset has undergone anonymization procedures.<br>\n",
    "    Such a scenario implies that the synthetic data generator has overfit to the training dataset, compromising its ability to generate sufficiently diverse and independent synthetic records.\n",
    "\n",
    "3. Finally, the **share** of synthetic rows closer to the training dataset than to the validation dataset is computed as:\n",
    "\n",
    "$$ DCR\\_share = \\frac{number\\space of\\space DCR\\_synth\\_train \\space smaller\\space than\\space DCR\\_synth\\_holdout}{total \\space number \\space of \\space DCR\\_synth\\_train \\space rows}   * 100$$\n",
    "\n",
    "If the percentage is close to or below 50%, it provides empirical evidence that the training and validation data are interchangeable with respect to the synthetic data. This indicates that the synthetic data does not disproportionately resemble the training dataset.<br> \n",
    "In such a case, it would not be possible to infer whether a specific individual was or was not included in the training dataset based on the synthetic data alone.<br>\n",
    "Conversely, if the DCR share exceeds 50%, it suggests that the synthetic dataset contains a significant number of records that are easily reidentifiable. This is a strong indicator that the synthetic data overfits the training data, potentially compromising its anonymization and exposing individuals to reidentification risks."
   ]
  },
  {
   "cell_type": "code",
   "execution_count": 78,
   "metadata": {},
   "outputs": [
    {
     "name": "stdout",
     "output_type": "stream",
     "text": [
      "            Duplicates stats\n",
      "----------------------------------------\n",
      "                    Training Synthetic\n",
      "Duplicates              1933      1038\n",
      "Duplicates %         11.87 %    6.38 %\n",
      "Unique duplicates       1136       580\n",
      "Unique duplicates %   6.98 %    3.56 %\n",
      "\n",
      "\n",
      "Synthetic-Training clones: 1595 (9.80 %)\n",
      "\n",
      "\n",
      "                   DCR stats\n",
      "----------------------------------------------\n",
      "        Synthetic-Training   Synthetic-Holdout\n",
      "mean               0.051470           0.056892\n",
      "min                0.000000           0.000000\n",
      "25%                0.004215           0.007064\n",
      "median             0.033429           0.076923\n",
      "75%                0.082192           0.085331\n",
      "max                0.308746           0.314778\n",
      "\n",
      "\n",
      "Synthetic-Training vs. Synthetic-Holdout Test (DCR share): 47.69 %\n"
     ]
    },
    {
     "data": {
      "image/png": "[encoded data removed]",
      "text/plain": [
       "<Figure size 2000x600 with 1 Axes>"
      ]
     },
     "metadata": {},
     "output_type": "display_data"
    }
   ],
   "source": [
    "def display_DCR_results(training_metrics, synthetic_metrics, synthetic_training_metrics, synthetic_holdout_metrics):\n",
    "    # Display useful DCR stats\n",
    "    print(\"            Duplicates stats\")\n",
    "    print(\"----------------------------------------\")\n",
    "    print(pd.DataFrame({'Training':[f\"{training_metrics['training_duplicates']}\", f\"{round(training_metrics['training_duplicates_percentage'],2)} %\", f\"{training_metrics['training_unique_duplicates']}\", f\"{round(training_metrics['training_unique_duplicates_percentage'],2)} %\"], \n",
    "                        'Synthetic':[f\"{synthetic_metrics['synthetic_duplicates']}\", f\"{round(synthetic_metrics['synthetic_duplicates_percentage'],2)} %\", f\"{synthetic_metrics['synthetic_unique_duplicates']}\", f\"{round(synthetic_metrics['synthetic_unique_duplicates_percentage'],2)} %\"]}, \n",
    "                        index=[\"Duplicates\", \"Duplicates %\", \"Unique duplicates\", \"Unique duplicates %\"]))\n",
    "\n",
    "\n",
    "    print(f\"\\n\\nSynthetic-Training clones: {synthetic_training_metrics['synth_train_clones']} ({synthetic_training_metrics['synth_train_clones_percentage']:.2f} %)\")\n",
    "\n",
    "    print(\"\\n\\n                   DCR stats\")\n",
    "    print(\"----------------------------------------------\")\n",
    "    print(pd.DataFrame({'Synthetic-Training ': synthetic_training_metrics['dcr_synth_train_stats'], 'Synthetic-Holdout': synthetic_holdout_metrics['dcr_synth_holdout_stats']}))\n",
    "\n",
    "    print(\"\\n\\nSynthetic-Training vs. Synthetic-Holdout Test (DCR share): {:.2f} %\".format(synthetic_holdout_metrics['synth_holdout_test']))\n",
    "\n",
    "def plot_DCR_results(training_metrics, synthetic_training_metrics):\n",
    "    # Plot DCR synth-train and synth-holdout histograms\n",
    "    labels = training_metrics['dcr_train_train_hist']['bins']\n",
    "    train_train_counts = training_metrics['dcr_train_train_hist']['counts'] / np.sum(training_metrics['dcr_train_train_hist']['counts'])\n",
    "    synth_train_counts = synthetic_training_metrics['dcr_synth_train_hist']['counts'] / np.sum(synthetic_training_metrics['dcr_synth_train_hist']['counts'])\n",
    "    X_axis = np.arange(len(labels))\n",
    "    plt.figure(figsize=(20,6))\n",
    "    plt.xticks(X_axis, labels, rotation='vertical')\n",
    "    plt.bar(X_axis-0.1, train_train_counts, 0.4, label = 'Train-Train', alpha=0.7)\n",
    "    plt.bar(X_axis+0.1, synth_train_counts, 0.4, label = 'Synth-Train', alpha=0.7)\n",
    "    plt.legend()\n",
    "    plt.title(\"Synthetic-Training and Synthetic-Holdout DCR Distributions\")\n",
    "\n",
    "display_DCR_results(training_metrics, synthetic_metrics, synthetic_training_metrics, synthetic_holdout_metrics)\n",
    "plot_DCR_results(training_metrics, synthetic_training_metrics)"
   ]
  },
  {
   "cell_type": "markdown",
   "metadata": {},
   "source": [
    "### 2.1.2 Membership Inference Attack\n",
    "The **Membership Inference Test** is a critical evaluation used to estimate the risk of revealing membership information in a dataset.<br> \n",
    "This test assesses how well an adversary, armed with certain prior knowledge, could infer whether specific records were part of the original training dataset used to generate the synthetic data.\n",
    "\n",
    "**Why Membership Inference Poses a Privacy Risk**<br>\n",
    "\n",
    "A malicious attacker who has prior knowledge of one or more records in the original dataset can use the membership inference test to determine if those records were part of the training dataset used to generate the synthetic data.<br> \n",
    "This process can compromise the privacy of the original dataset in several ways:\n",
    "\n",
    "- *Revealing Sensitive Information*:\n",
    "\n",
    "    If the synthetic dataset retains too much similarity to the original data, the attacker can infer sensitive details about individuals or entities, such as health records, financial transactions, or other private attributes.\n",
    "- *Increased Risk of Reidentification*:\n",
    "\n",
    "    The more closely the synthetic data resembles the training data, the higher the risk that an attacker can reidentify individuals within the synthetic dataset, thus violating their privacy.\n",
    "- *Erosion of Anonymization*:\n",
    "\n",
    "    The goal of synthetic data is to anonymize original records while maintaining data utility. However, if membership inference is successful, it undermines the very purpose of synthetic data generation by exposing private information.\n",
    "\n",
    "Synthetic data generation techniques must ensure that records in the synthetic dataset cannot be linked back to the original dataset with high confidence.\n",
    "\n",
    "**How the Membership Inference Test Works**\n",
    "\n",
    "1. *Distance to the Closest Record (DCR)*:\n",
    "\n",
    "    The test calculates the **DCR** (**Distance to the Closest Record**) for each record in the adversary dataset by measuring its distance to all records in the synthetic dataset.<br>\n",
    "    The DCR quantifies how closely an adversary’s known records resemble records in the synthetic dataset.\n",
    "2. *Threshold-Based Risk Evaluation*:\n",
    "\n",
    "    A set of distance thresholds is applied to the DCR values. These thresholds determine whether a record is considered sufficiently \"close\" to indicate membership in the original dataset.<br>\n",
    "    For each threshold, the test computes precision scores, which reflect how accurately the synthetic dataset can be linked back to specific records in the adversary dataset.\n",
    "3. *Privacy Risk Assessment*:\n",
    "\n",
    "    If many records from the adversary dataset are identified with high precision (low DCR values), this indicates that the synthetic data strongly resembles the original data, increasing the risk of membership inference.<br>\n",
    "    Conversely, if the precision scores are low across thresholds, it suggests that the synthetic dataset is well-anonymized, reducing the likelihood of successful membership inference.\n",
    "\n",
    "    The **MI Mean Risk score** is computed as $(precision - 0.5) * 2$.<br>\n",
    "    MI Risk Score smaller than 0.2 (20%) are considered to be very LOW RISK of disclosure due to membership inference."
   ]
  },
  {
   "cell_type": "code",
   "execution_count": 74,
   "metadata": {},
   "outputs": [
    {
     "name": "stdout",
     "output_type": "stream",
     "text": [
      "Membership Inference Test\n",
      "  Adversary Distance Thresholds: [0.013881421647965908, 0.003161222208291292, 0.002107481472194195, 0.0]\n",
      "  Adversary Precision Score: [0.500615763546798, 0.5294888597640891, 0.5472175379426644, 0.5]\n",
      "  Membership Inference Mean Risk Score: 0.0387\n"
     ]
    }
   ],
   "source": [
    "print(\"Membership Inference Test\")\n",
    "print(\"  Adversary Distance Thresholds: {}\".format(membership_inference_test['adversary_distance_thresholds']))\n",
    "print(\"  Adversary Precision Score: {}\".format(membership_inference_test['adversary_precisions']))\n",
    "print(\"  Membership Inference Mean Risk Score: {:.4f}\".format(membership_inference_test['membership_inference_mean_risk_score']))"
   ]
  },
  {
   "cell_type": "markdown",
   "metadata": {},
   "source": [
    "## 2.2 Utilty evaluation\n",
    "### 2.2.1 Detection\n",
    "The detection score is computed to evaluate the \n",
    "quality of a synthetic dataset by training a XGBoost classifier \n",
    "to distinguish between original and synthetic data.<br>\n",
    "The lower the model's accuracy, the higher the quality of the synthetic data.\n",
    "\n",
    "The feature importance for the detection task with XGBoost model is also computed.<br>\n",
    "If a feature has high importance, it means the synthetic data for that feature differs significantly from the original data.\n",
    "This can suggest that the synthetic data generator has failed to accurately replicate the distribution of this feature, making it a \"weak spot\" in the synthetic dataset."
   ]
  },
  {
   "cell_type": "code",
   "execution_count": null,
   "metadata": {},
   "outputs": [],
   "source": [
    "from clearbox_synthetic import DetectionScore\n",
    "\n",
    "detection_score = DetectionScore(\n",
    "        train_dataset, \n",
    "        synthetic_dataset, \n",
    "        preprocessor\n",
    "    ).get()"
   ]
  },
  {
   "cell_type": "code",
   "execution_count": 76,
   "metadata": {},
   "outputs": [
    {
     "name": "stdout",
     "output_type": "stream",
     "text": [
      "Detection results:\n",
      "  Accuracy:  0.6974\n",
      "  ROC AUC:   0.7846\n",
      "  Score:     0.4308\n"
     ]
    },
    {
     "data": {
      "image/png": "[encoded data removed]",
      "text/plain": [
       "<Figure size 1000x600 with 1 Axes>"
      ]
     },
     "metadata": {},
     "output_type": "display_data"
    }
   ],
   "source": [
    "def display_detection_results(detection_score):\n",
    "    print(\"Detection results:\")\n",
    "    print(\"  Accuracy: \", round(detection_score[\"accuracy\"],4))\n",
    "    print(\"  ROC AUC:  \", round(detection_score[\"ROC_AUC\"],4))\n",
    "    print(\"  Score:    \", round(detection_score[\"score\"],4))\n",
    "\n",
    "def plot_feature_importance_detection(detection_score):\n",
    "    importances = detection_score[\"feature_importances\"]    \n",
    "\n",
    "    features = list(importances.keys())\n",
    "    values = np.array([importances[f] for f in features])\n",
    "\n",
    "    x = np.arange(len(features)) \n",
    "    width = 0.4 \n",
    "\n",
    "    plt.figure(figsize=(10, 6))\n",
    "    plt.bar(x - width / 2, values, width, alpha=0.7)\n",
    "\n",
    "    plt.xticks(x, features, rotation=45, ha=\"right\")\n",
    "    plt.xlabel(\"Features\")\n",
    "    plt.ylabel(\"Feature Importance\")\n",
    "    plt.title(\"Feature Importances of Detection Test\")\n",
    "\n",
    "    plt.tight_layout()\n",
    "    plt.show()\n",
    "\n",
    "display_detection_results(detection_score)\n",
    "plot_feature_importance_detection(detection_score)"
   ]
  },
  {
   "cell_type": "markdown",
   "metadata": {},
   "source": [
    "### 2.2.2 Train on Synthetic, Test on Real (TSTR)\n",
    "The TSTRScore class cwhich calculates the Train on Synthetic Test on Real (TSTR) score\n",
    "for a machine learning task (regression or classification) using XGBoost models. \n",
    "The class compares the performance of models trained on original and synthetic datasets.\n",
    "\n",
    "The feature importances are also computed for the TSTR task.\n",
    "Here is a brief abstract on how to interpret the results of the feature importances:\n",
    "- High feature importance with poor performance:\n",
    "\n",
    "    - The synthetic data for this feature is likely not representative of the real data, causing the model to rely on misleading patterns.\n",
    "    - This is a weakness in the synthetic dataset and should be investigated further.\n",
    "- High feature importance with good performance:\n",
    "\n",
    "    - Indicates that the synthetic data for this feature captures the real data's patterns well, making it a strong point of the synthetic dataset.\n",
    "- Low feature importance:\n",
    "\n",
    "     - Suggests that the feature is less relevant to the task or that the synthetic data for this feature fails to capture meaningful patterns, making it less useful."
   ]
  },
  {
   "cell_type": "code",
   "execution_count": 141,
   "metadata": {},
   "outputs": [],
   "source": [
    "from clearbox_synthetic import TSTRScore\n",
    "\n",
    "TSTR_score = TSTRScore(\n",
    "        train_dataset, \n",
    "        synthetic_dataset, \n",
    "        validation_dataset,\n",
    "        preprocessor\n",
    "    ).get()"
   ]
  },
  {
   "cell_type": "code",
   "execution_count": 211,
   "metadata": {},
   "outputs": [
    {
     "name": "stdout",
     "output_type": "stream",
     "text": [
      "TSTR task:  classification\n",
      "TSTR score:  0.9842\n",
      "\n",
      "   Dataset  Accuracy\n",
      " Training    0.8714\n",
      "Synthetic    0.8556\n",
      "\n",
      "   Dataset label  precision  recall  fscore  support\n",
      " Training <=50K     0.8978  0.9386  0.9177  12435.0\n",
      " Training  >50K     0.7671  0.6544  0.7063   3846.0\n",
      "Synthetic <=50K     0.8871  0.9292  0.9077  12435.0\n",
      "Synthetic  >50K     0.7295  0.6178  0.6690   3846.0\n"
     ]
    }
   ],
   "source": [
    "def display_TSTR(TSTR_score):\n",
    "    # Extract metrics for training and synthetic into dataframes\n",
    "    training_metrics = pd.DataFrame(TSTR_score['metrics']['training']).assign(Dataset='Training')\n",
    "    training_metrics = training_metrics[[\"Dataset\"] + [col for col in training_metrics.columns if col != \"Dataset\"]]\n",
    "\n",
    "    synthetic_metrics = pd.DataFrame(TSTR_score['metrics']['synthetic']).assign(Dataset='Synthetic')\n",
    "    synthetic_metrics = synthetic_metrics[[\"Dataset\"] + [col for col in training_metrics.columns if col != \"Dataset\"]]\n",
    "\n",
    "    # Combine both into a single table\n",
    "    results_table = pd.concat([training_metrics, synthetic_metrics], ignore_index=True)\n",
    "\n",
    "    # Add accuracy information to the table\n",
    "    accuracy_table = pd.DataFrame([\n",
    "        {'Dataset': 'Training', 'Accuracy': TSTR_score['accuracy']['training']},\n",
    "        {'Dataset': 'Synthetic', 'Accuracy': TSTR_score['accuracy']['synthetic']}\n",
    "    ])\n",
    "\n",
    "    print(\"TSTR task: \", TSTR_score[\"task\"])\n",
    "    print(\"TSTR score: \", TSTR_score[\"score\"])\n",
    "\n",
    "    print(\"\\n\",accuracy_table.to_string(index=False))\n",
    "    print(\"\\n\",results_table.to_string(index=False))\n",
    "\n",
    "display_TSTR(TSTR_score)"
   ]
  },
  {
   "cell_type": "code",
   "execution_count": null,
   "metadata": {},
   "outputs": [
    {
     "data": {
      "image/png": "[encoded data removed]",
      "text/plain": [
       "<Figure size 1000x600 with 1 Axes>"
      ]
     },
     "metadata": {},
     "output_type": "display_data"
    }
   ],
   "source": [
    "# Plot Feature Importance for Training and Synthetic dataset\n",
    "def plot_feature_importance_TSTR(TSTR_score):\n",
    "    training_importances = TSTR_score[\"feature_importances\"][\"training\"]\n",
    "    synthetic_importances = TSTR_score[\"feature_importances\"][\"synthetic\"]\n",
    "\n",
    "    features = list(training_importances.keys())\n",
    "    training_values = np.array([training_importances[f] for f in features])\n",
    "    synthetic_values = np.array([synthetic_importances[f] for f in features])\n",
    "\n",
    "    x = np.arange(len(features)) \n",
    "    width = 0.4 \n",
    "\n",
    "    plt.figure(figsize=(10, 6))\n",
    "    plt.bar(x - width / 2, training_values, width, label=\"Training\", alpha=0.7)\n",
    "    plt.bar(x + width / 2, synthetic_values, width, label=\"Synthetic\", alpha=0.7)\n",
    "\n",
    "    plt.xticks(x, features, rotation=45, ha=\"right\")\n",
    "    plt.xlabel(\"Features\")\n",
    "    plt.ylabel(\"Feature Importance\")\n",
    "    plt.title(\"Feature Importances of TSTR: Training vs Synthetic\")\n",
    "    plt.legend()\n",
    "\n",
    "    plt.tight_layout()\n",
    "    plt.show()\n",
    "\n",
    "plot_feature_importance_TSTR(TSTR_score)"
   ]
  },
  {
   "cell_type": "markdown",
   "metadata": {},
   "source": [
    "### 2.2.3 Mutual Information\n",
    "\n",
    "The MutualInformation class calculates the mutual information\n",
    "between features in original and synthetic datasets. The comparison helps assess the \n",
    "similarity between the feature relationships in both datasets."
   ]
  },
  {
   "cell_type": "code",
   "execution_count": null,
   "metadata": {},
   "outputs": [
    {
     "data": {
      "application/vnd.plotly.v1+json": {
       "config": {
        "plotlyServerURL": "https://plot.ly"
       },
       "data": [
        {
         "colorbar": {
          "title": {
           "text": "Correlation"
          }
         },
         "colorscale": [
          [
           0,
           "rgb(103,0,31)"
          ],
          [
           0.1,
           "rgb(178,24,43)"
          ],
          [
           0.2,
           "rgb(214,96,77)"
          ],
          [
           0.3,
           "rgb(244,165,130)"
          ],
          [
           0.4,
           "rgb(253,219,199)"
          ],
          [
           0.5,
           "rgb(247,247,247)"
          ],
          [
           0.6,
           "rgb(209,229,240)"
          ],
          [
           0.7,
           "rgb(146,197,222)"
          ],
          [
           0.8,
           "rgb(67,147,195)"
          ],
          [
           0.9,
           "rgb(33,102,172)"
          ],
          [
           1,
           "rgb(5,48,97)"
          ]
         ],
         "type": "heatmap",
         "x": [
          "age",
          "work_class",
          "education",
          "marital_status",
          "occupation",
          "relationship",
          "race",
          "sex",
          "capital_gain",
          "capital_loss",
          "hours_per_week",
          "native_country"
         ],
         "xaxis": "x",
         "y": [
          "native_country",
          "hours_per_week",
          "capital_loss",
          "capital_gain",
          "sex",
          "race",
          "relationship",
          "occupation",
          "marital_status",
          "education",
          "work_class",
          "age"
         ],
         "yaxis": "y",
         "z": [
          [
           0.0115,
           0.0224,
           0.0552,
           0.0142,
           0.0284,
           0.018,
           0.0755,
           0.0156,
           0.0084,
           0.0193,
           0.0138,
           null
          ],
          [
           0.0452,
           0.0471,
           0.0441,
           0.0403,
           0.0843,
           0.0622,
           0.0266,
           0.0319,
           0.0226,
           0.0313,
           null,
           null
          ],
          [
           0.0169,
           0.0218,
           0.0243,
           0.0218,
           0.028,
           0.0171,
           0.0192,
           0.0168,
           0.0056,
           null,
           null,
           null
          ],
          [
           0.0235,
           0.0146,
           0.0201,
           0.0181,
           0.0225,
           0.0136,
           0.0068,
           0.0054,
           null,
           null,
           null,
           null
          ],
          [
           0.0062,
           0.0321,
           0.0096,
           0.1443,
           0.0749,
           0.2439,
           0.0062,
           null,
           null,
           null,
           null,
           null
          ],
          [
           0.0082,
           0.0236,
           0.0276,
           0.0154,
           0.0337,
           0.0294,
           null,
           null,
           null,
           null,
           null,
           null
          ],
          [
           0.0794,
           0.0537,
           0.0344,
           0.5266,
           0.0836,
           null,
           null,
           null,
           null,
           null,
           null,
           null
          ],
          [
           0.0411,
           0.2153,
           0.139,
           0.0734,
           null,
           null,
           null,
           null,
           null,
           null,
           null,
           null
          ],
          [
           0.1474,
           0.0357,
           0.0274,
           null,
           null,
           null,
           null,
           null,
           null,
           null,
           null,
           null
          ],
          [
           0.0301,
           0.0518,
           null,
           null,
           null,
           null,
           null,
           null,
           null,
           null,
           null,
           null
          ],
          [
           0.0391,
           null,
           null,
           null,
           null,
           null,
           null,
           null,
           null,
           null,
           null,
           null
          ],
          [
           null,
           null,
           null,
           null,
           null,
           null,
           null,
           null,
           null,
           null,
           null,
           null
          ]
         ],
         "zmax": 1,
         "zmin": -1
        },
        {
         "colorbar": {
          "title": {
           "text": "Correlation"
          }
         },
         "colorscale": [
          [
           0,
           "rgb(103,0,31)"
          ],
          [
           0.1,
           "rgb(178,24,43)"
          ],
          [
           0.2,
           "rgb(214,96,77)"
          ],
          [
           0.3,
           "rgb(244,165,130)"
          ],
          [
           0.4,
           "rgb(253,219,199)"
          ],
          [
           0.5,
           "rgb(247,247,247)"
          ],
          [
           0.6,
           "rgb(209,229,240)"
          ],
          [
           0.7,
           "rgb(146,197,222)"
          ],
          [
           0.8,
           "rgb(67,147,195)"
          ],
          [
           0.9,
           "rgb(33,102,172)"
          ],
          [
           1,
           "rgb(5,48,97)"
          ]
         ],
         "type": "heatmap",
         "x": [
          "age",
          "work_class",
          "education",
          "marital_status",
          "occupation",
          "relationship",
          "race",
          "sex",
          "capital_gain",
          "capital_loss",
          "hours_per_week",
          "native_country"
         ],
         "xaxis": "x2",
         "y": [
          "native_country",
          "hours_per_week",
          "capital_loss",
          "capital_gain",
          "sex",
          "race",
          "relationship",
          "occupation",
          "marital_status",
          "education",
          "work_class",
          "age"
         ],
         "yaxis": "y2",
         "z": [
          [
           0.0126,
           0.0176,
           0.0189,
           0.0142,
           0.0243,
           0.0225,
           0.0075,
           0.0056,
           0.0024,
           0.0107,
           0.0124,
           null
          ],
          [
           0.083,
           0.0622,
           0.0424,
           0.0414,
           0.0653,
           0.0515,
           0.0067,
           0.0481,
           0.0138,
           0.0269,
           null,
           null
          ],
          [
           0.034,
           0.0345,
           0.0286,
           0.019,
           0.0333,
           0.0374,
           0.013,
           0.0102,
           0.0015,
           null,
           null,
           null
          ],
          [
           0.0095,
           0.0025,
           0.0108,
           0.0049,
           0.0076,
           0.0061,
           0.0212,
           0.0049,
           null,
           null,
           null,
           null
          ],
          [
           0.0096,
           0.0111,
           0.002,
           0.1303,
           0.0476,
           0.1415,
           0.0285,
           null,
           null,
           null,
           null,
           null
          ],
          [
           0.0118,
           0.0191,
           0.0088,
           0.0096,
           0.0201,
           0.026,
           null,
           null,
           null,
           null,
           null,
           null
          ],
          [
           0.0725,
           0.0225,
           0.0386,
           0.2827,
           0.0678,
           null,
           null,
           null,
           null,
           null,
           null,
           null
          ],
          [
           0.0394,
           0.0764,
           0.0549,
           0.0601,
           null,
           null,
           null,
           null,
           null,
           null,
           null,
           null
          ],
          [
           0.1282,
           0.0223,
           0.0192,
           null,
           null,
           null,
           null,
           null,
           null,
           null,
           null,
           null
          ],
          [
           0.0351,
           0.0334,
           null,
           null,
           null,
           null,
           null,
           null,
           null,
           null,
           null,
           null
          ],
          [
           0.0199,
           null,
           null,
           null,
           null,
           null,
           null,
           null,
           null,
           null,
           null,
           null
          ],
          [
           null,
           null,
           null,
           null,
           null,
           null,
           null,
           null,
           null,
           null,
           null,
           null
          ]
         ],
         "zmax": 1,
         "zmin": -1
        },
        {
         "colorbar": {
          "title": {
           "text": "Correlation"
          }
         },
         "colorscale": [
          [
           0,
           "rgb(103,0,31)"
          ],
          [
           0.1,
           "rgb(178,24,43)"
          ],
          [
           0.2,
           "rgb(214,96,77)"
          ],
          [
           0.3,
           "rgb(244,165,130)"
          ],
          [
           0.4,
           "rgb(253,219,199)"
          ],
          [
           0.5,
           "rgb(247,247,247)"
          ],
          [
           0.6,
           "rgb(209,229,240)"
          ],
          [
           0.7,
           "rgb(146,197,222)"
          ],
          [
           0.8,
           "rgb(67,147,195)"
          ],
          [
           0.9,
           "rgb(33,102,172)"
          ],
          [
           1,
           "rgb(5,48,97)"
          ]
         ],
         "type": "heatmap",
         "x": [
          "age",
          "work_class",
          "education",
          "marital_status",
          "occupation",
          "relationship",
          "race",
          "sex",
          "capital_gain",
          "capital_loss",
          "hours_per_week",
          "native_country"
         ],
         "xaxis": "x3",
         "y": [
          "native_country",
          "hours_per_week",
          "capital_loss",
          "capital_gain",
          "sex",
          "race",
          "relationship",
          "occupation",
          "marital_status",
          "education",
          "work_class",
          "age"
         ],
         "yaxis": "y3",
         "z": [
          [
           0.0011,
           0.0048,
           0.0363,
           0,
           0.0041,
           0.0045,
           0.068,
           0.01,
           0.006,
           0.0086,
           0.0014,
           null
          ],
          [
           0.0378,
           0.0151,
           0.0017,
           0.0011,
           0.019,
           0.0107,
           0.0199,
           0.0162,
           0.0088,
           0.0044,
           null,
           null
          ],
          [
           0.0171,
           0.0127,
           0.0043,
           0.0028,
           0.0053,
           0.0203,
           0.0062,
           0.0066,
           0.0041,
           null,
           null,
           null
          ],
          [
           0.014,
           0.0121,
           0.0093,
           0.0132,
           0.0149,
           0.0075,
           0.0144,
           0.0005,
           null,
           null,
           null,
           null
          ],
          [
           0.0034,
           0.021,
           0.0076,
           0.014,
           0.0273,
           0.1024,
           0.0223,
           null,
           null,
           null,
           null,
           null
          ],
          [
           0.0036,
           0.0045,
           0.0188,
           0.0058,
           0.0136,
           0.0034,
           null,
           null,
           null,
           null,
           null,
           null
          ],
          [
           0.0069,
           0.0312,
           0.0042,
           0.2439,
           0.0158,
           null,
           null,
           null,
           null,
           null,
           null,
           null
          ],
          [
           0.0017,
           0.1389,
           0.0841,
           0.0133,
           null,
           null,
           null,
           null,
           null,
           null,
           null,
           null
          ],
          [
           0.0192,
           0.0134,
           0.0082,
           null,
           null,
           null,
           null,
           null,
           null,
           null,
           null,
           null
          ],
          [
           0.005,
           0.0184,
           null,
           null,
           null,
           null,
           null,
           null,
           null,
           null,
           null,
           null
          ],
          [
           0.0192,
           null,
           null,
           null,
           null,
           null,
           null,
           null,
           null,
           null,
           null,
           null
          ],
          [
           null,
           null,
           null,
           null,
           null,
           null,
           null,
           null,
           null,
           null,
           null,
           null
          ]
         ],
         "zmax": 1,
         "zmin": -1
        }
       ],
       "layout": {
        "annotations": [
         {
          "font": {
           "size": 16
          },
          "showarrow": false,
          "text": "original_mutual_information",
          "x": 0.14444444444444446,
          "xanchor": "center",
          "xref": "paper",
          "y": 1,
          "yanchor": "bottom",
          "yref": "paper"
         },
         {
          "font": {
           "size": 16
          },
          "showarrow": false,
          "text": "synthetic_mutual_information",
          "x": 0.5,
          "xanchor": "center",
          "xref": "paper",
          "y": 1,
          "yanchor": "bottom",
          "yref": "paper"
         },
         {
          "font": {
           "size": 16
          },
          "showarrow": false,
          "text": "diff_correlation_matrix",
          "x": 0.8555555555555556,
          "xanchor": "center",
          "xref": "paper",
          "y": 1,
          "yanchor": "bottom",
          "yref": "paper"
         }
        ],
        "height": 500,
        "template": {
         "data": {
          "bar": [
           {
            "error_x": {
             "color": "#2a3f5f"
            },
            "error_y": {
             "color": "#2a3f5f"
            },
            "marker": {
             "line": {
              "color": "#E5ECF6",
              "width": 0.5
             },
             "pattern": {
              "fillmode": "overlay",
              "size": 10,
              "solidity": 0.2
             }
            },
            "type": "bar"
           }
          ],
          "barpolar": [
           {
            "marker": {
             "line": {
              "color": "#E5ECF6",
              "width": 0.5
             },
             "pattern": {
              "fillmode": "overlay",
              "size": 10,
              "solidity": 0.2
             }
            },
            "type": "barpolar"
           }
          ],
          "carpet": [
           {
            "aaxis": {
             "endlinecolor": "#2a3f5f",
             "gridcolor": "white",
             "linecolor": "white",
             "minorgridcolor": "white",
             "startlinecolor": "#2a3f5f"
            },
            "baxis": {
             "endlinecolor": "#2a3f5f",
             "gridcolor": "white",
             "linecolor": "white",
             "minorgridcolor": "white",
             "startlinecolor": "#2a3f5f"
            },
            "type": "carpet"
           }
          ],
          "choropleth": [
           {
            "colorbar": {
             "outlinewidth": 0,
             "ticks": ""
            },
            "type": "choropleth"
           }
          ],
          "contour": [
           {
            "colorbar": {
             "outlinewidth": 0,
             "ticks": ""
            },
            "colorscale": [
             [
              0,
              "#0d0887"
             ],
             [
              0.1111111111111111,
              "#46039f"
             ],
             [
              0.2222222222222222,
              "#7201a8"
             ],
             [
              0.3333333333333333,
              "#9c179e"
             ],
             [
              0.4444444444444444,
              "#bd3786"
             ],
             [
              0.5555555555555556,
              "#d8576b"
             ],
             [
              0.6666666666666666,
              "#ed7953"
             ],
             [
              0.7777777777777778,
              "#fb9f3a"
             ],
             [
              0.8888888888888888,
              "#fdca26"
             ],
             [
              1,
              "#f0f921"
             ]
            ],
            "type": "contour"
           }
          ],
          "contourcarpet": [
           {
            "colorbar": {
             "outlinewidth": 0,
             "ticks": ""
            },
            "type": "contourcarpet"
           }
          ],
          "heatmap": [
           {
            "colorbar": {
             "outlinewidth": 0,
             "ticks": ""
            },
            "colorscale": [
             [
              0,
              "#0d0887"
             ],
             [
              0.1111111111111111,
              "#46039f"
             ],
             [
              0.2222222222222222,
              "#7201a8"
             ],
             [
              0.3333333333333333,
              "#9c179e"
             ],
             [
              0.4444444444444444,
              "#bd3786"
             ],
             [
              0.5555555555555556,
              "#d8576b"
             ],
             [
              0.6666666666666666,
              "#ed7953"
             ],
             [
              0.7777777777777778,
              "#fb9f3a"
             ],
             [
              0.8888888888888888,
              "#fdca26"
             ],
             [
              1,
              "#f0f921"
             ]
            ],
            "type": "heatmap"
           }
          ],
          "heatmapgl": [
           {
            "colorbar": {
             "outlinewidth": 0,
             "ticks": ""
            },
            "colorscale": [
             [
              0,
              "#0d0887"
             ],
             [
              0.1111111111111111,
              "#46039f"
             ],
             [
              0.2222222222222222,
              "#7201a8"
             ],
             [
              0.3333333333333333,
              "#9c179e"
             ],
             [
              0.4444444444444444,
              "#bd3786"
             ],
             [
              0.5555555555555556,
              "#d8576b"
             ],
             [
              0.6666666666666666,
              "#ed7953"
             ],
             [
              0.7777777777777778,
              "#fb9f3a"
             ],
             [
              0.8888888888888888,
              "#fdca26"
             ],
             [
              1,
              "#f0f921"
             ]
            ],
            "type": "heatmapgl"
           }
          ],
          "histogram": [
           {
            "marker": {
             "pattern": {
              "fillmode": "overlay",
              "size": 10,
              "solidity": 0.2
             }
            },
            "type": "histogram"
           }
          ],
          "histogram2d": [
           {
            "colorbar": {
             "outlinewidth": 0,
             "ticks": ""
            },
            "colorscale": [
             [
              0,
              "#0d0887"
             ],
             [
              0.1111111111111111,
              "#46039f"
             ],
             [
              0.2222222222222222,
              "#7201a8"
             ],
             [
              0.3333333333333333,
              "#9c179e"
             ],
             [
              0.4444444444444444,
              "#bd3786"
             ],
             [
              0.5555555555555556,
              "#d8576b"
             ],
             [
              0.6666666666666666,
              "#ed7953"
             ],
             [
              0.7777777777777778,
              "#fb9f3a"
             ],
             [
              0.8888888888888888,
              "#fdca26"
             ],
             [
              1,
              "#f0f921"
             ]
            ],
            "type": "histogram2d"
           }
          ],
          "histogram2dcontour": [
           {
            "colorbar": {
             "outlinewidth": 0,
             "ticks": ""
            },
            "colorscale": [
             [
              0,
              "#0d0887"
             ],
             [
              0.1111111111111111,
              "#46039f"
             ],
             [
              0.2222222222222222,
              "#7201a8"
             ],
             [
              0.3333333333333333,
              "#9c179e"
             ],
             [
              0.4444444444444444,
              "#bd3786"
             ],
             [
              0.5555555555555556,
              "#d8576b"
             ],
             [
              0.6666666666666666,
              "#ed7953"
             ],
             [
              0.7777777777777778,
              "#fb9f3a"
             ],
             [
              0.8888888888888888,
              "#fdca26"
             ],
             [
              1,
              "#f0f921"
             ]
            ],
            "type": "histogram2dcontour"
           }
          ],
          "mesh3d": [
           {
            "colorbar": {
             "outlinewidth": 0,
             "ticks": ""
            },
            "type": "mesh3d"
           }
          ],
          "parcoords": [
           {
            "line": {
             "colorbar": {
              "outlinewidth": 0,
              "ticks": ""
             }
            },
            "type": "parcoords"
           }
          ],
          "pie": [
           {
            "automargin": true,
            "type": "pie"
           }
          ],
          "scatter": [
           {
            "fillpattern": {
             "fillmode": "overlay",
             "size": 10,
             "solidity": 0.2
            },
            "type": "scatter"
           }
          ],
          "scatter3d": [
           {
            "line": {
             "colorbar": {
              "outlinewidth": 0,
              "ticks": ""
             }
            },
            "marker": {
             "colorbar": {
              "outlinewidth": 0,
              "ticks": ""
             }
            },
            "type": "scatter3d"
           }
          ],
          "scattercarpet": [
           {
            "marker": {
             "colorbar": {
              "outlinewidth": 0,
              "ticks": ""
             }
            },
            "type": "scattercarpet"
           }
          ],
          "scattergeo": [
           {
            "marker": {
             "colorbar": {
              "outlinewidth": 0,
              "ticks": ""
             }
            },
            "type": "scattergeo"
           }
          ],
          "scattergl": [
           {
            "marker": {
             "colorbar": {
              "outlinewidth": 0,
              "ticks": ""
             }
            },
            "type": "scattergl"
           }
          ],
          "scattermapbox": [
           {
            "marker": {
             "colorbar": {
              "outlinewidth": 0,
              "ticks": ""
             }
            },
            "type": "scattermapbox"
           }
          ],
          "scatterpolar": [
           {
            "marker": {
             "colorbar": {
              "outlinewidth": 0,
              "ticks": ""
             }
            },
            "type": "scatterpolar"
           }
          ],
          "scatterpolargl": [
           {
            "marker": {
             "colorbar": {
              "outlinewidth": 0,
              "ticks": ""
             }
            },
            "type": "scatterpolargl"
           }
          ],
          "scatterternary": [
           {
            "marker": {
             "colorbar": {
              "outlinewidth": 0,
              "ticks": ""
             }
            },
            "type": "scatterternary"
           }
          ],
          "surface": [
           {
            "colorbar": {
             "outlinewidth": 0,
             "ticks": ""
            },
            "colorscale": [
             [
              0,
              "#0d0887"
             ],
             [
              0.1111111111111111,
              "#46039f"
             ],
             [
              0.2222222222222222,
              "#7201a8"
             ],
             [
              0.3333333333333333,
              "#9c179e"
             ],
             [
              0.4444444444444444,
              "#bd3786"
             ],
             [
              0.5555555555555556,
              "#d8576b"
             ],
             [
              0.6666666666666666,
              "#ed7953"
             ],
             [
              0.7777777777777778,
              "#fb9f3a"
             ],
             [
              0.8888888888888888,
              "#fdca26"
             ],
             [
              1,
              "#f0f921"
             ]
            ],
            "type": "surface"
           }
          ],
          "table": [
           {
            "cells": {
             "fill": {
              "color": "#EBF0F8"
             },
             "line": {
              "color": "white"
             }
            },
            "header": {
             "fill": {
              "color": "#C8D4E3"
             },
             "line": {
              "color": "white"
             }
            },
            "type": "table"
           }
          ]
         },
         "layout": {
          "annotationdefaults": {
           "arrowcolor": "#2a3f5f",
           "arrowhead": 0,
           "arrowwidth": 1
          },
          "autotypenumbers": "strict",
          "coloraxis": {
           "colorbar": {
            "outlinewidth": 0,
            "ticks": ""
           }
          },
          "colorscale": {
           "diverging": [
            [
             0,
             "#8e0152"
            ],
            [
             0.1,
             "#c51b7d"
            ],
            [
             0.2,
             "#de77ae"
            ],
            [
             0.3,
             "#f1b6da"
            ],
            [
             0.4,
             "#fde0ef"
            ],
            [
             0.5,
             "#f7f7f7"
            ],
            [
             0.6,
             "#e6f5d0"
            ],
            [
             0.7,
             "#b8e186"
            ],
            [
             0.8,
             "#7fbc41"
            ],
            [
             0.9,
             "#4d9221"
            ],
            [
             1,
             "#276419"
            ]
           ],
           "sequential": [
            [
             0,
             "#0d0887"
            ],
            [
             0.1111111111111111,
             "#46039f"
            ],
            [
             0.2222222222222222,
             "#7201a8"
            ],
            [
             0.3333333333333333,
             "#9c179e"
            ],
            [
             0.4444444444444444,
             "#bd3786"
            ],
            [
             0.5555555555555556,
             "#d8576b"
            ],
            [
             0.6666666666666666,
             "#ed7953"
            ],
            [
             0.7777777777777778,
             "#fb9f3a"
            ],
            [
             0.8888888888888888,
             "#fdca26"
            ],
            [
             1,
             "#f0f921"
            ]
           ],
           "sequentialminus": [
            [
             0,
             "#0d0887"
            ],
            [
             0.1111111111111111,
             "#46039f"
            ],
            [
             0.2222222222222222,
             "#7201a8"
            ],
            [
             0.3333333333333333,
             "#9c179e"
            ],
            [
             0.4444444444444444,
             "#bd3786"
            ],
            [
             0.5555555555555556,
             "#d8576b"
            ],
            [
             0.6666666666666666,
             "#ed7953"
            ],
            [
             0.7777777777777778,
             "#fb9f3a"
            ],
            [
             0.8888888888888888,
             "#fdca26"
            ],
            [
             1,
             "#f0f921"
            ]
           ]
          },
          "colorway": [
           "#636efa",
           "#EF553B",
           "#00cc96",
           "#ab63fa",
           "#FFA15A",
           "#19d3f3",
           "#FF6692",
           "#B6E880",
           "#FF97FF",
           "#FECB52"
          ],
          "font": {
           "color": "#2a3f5f"
          },
          "geo": {
           "bgcolor": "white",
           "lakecolor": "white",
           "landcolor": "#E5ECF6",
           "showlakes": true,
           "showland": true,
           "subunitcolor": "white"
          },
          "hoverlabel": {
           "align": "left"
          },
          "hovermode": "closest",
          "mapbox": {
           "style": "light"
          },
          "paper_bgcolor": "white",
          "plot_bgcolor": "#E5ECF6",
          "polar": {
           "angularaxis": {
            "gridcolor": "white",
            "linecolor": "white",
            "ticks": ""
           },
           "bgcolor": "#E5ECF6",
           "radialaxis": {
            "gridcolor": "white",
            "linecolor": "white",
            "ticks": ""
           }
          },
          "scene": {
           "xaxis": {
            "backgroundcolor": "#E5ECF6",
            "gridcolor": "white",
            "gridwidth": 2,
            "linecolor": "white",
            "showbackground": true,
            "ticks": "",
            "zerolinecolor": "white"
           },
           "yaxis": {
            "backgroundcolor": "#E5ECF6",
            "gridcolor": "white",
            "gridwidth": 2,
            "linecolor": "white",
            "showbackground": true,
            "ticks": "",
            "zerolinecolor": "white"
           },
           "zaxis": {
            "backgroundcolor": "#E5ECF6",
            "gridcolor": "white",
            "gridwidth": 2,
            "linecolor": "white",
            "showbackground": true,
            "ticks": "",
            "zerolinecolor": "white"
           }
          },
          "shapedefaults": {
           "line": {
            "color": "#2a3f5f"
           }
          },
          "ternary": {
           "aaxis": {
            "gridcolor": "white",
            "linecolor": "white",
            "ticks": ""
           },
           "baxis": {
            "gridcolor": "white",
            "linecolor": "white",
            "ticks": ""
           },
           "bgcolor": "#E5ECF6",
           "caxis": {
            "gridcolor": "white",
            "linecolor": "white",
            "ticks": ""
           }
          },
          "title": {
           "x": 0.05
          },
          "xaxis": {
           "automargin": true,
           "gridcolor": "white",
           "linecolor": "white",
           "ticks": "",
           "title": {
            "standoff": 15
           },
           "zerolinecolor": "white",
           "zerolinewidth": 2
          },
          "yaxis": {
           "automargin": true,
           "gridcolor": "white",
           "linecolor": "white",
           "ticks": "",
           "title": {
            "standoff": 15
           },
           "zerolinecolor": "white",
           "zerolinewidth": 2
          }
         }
        },
        "title": {
         "text": "Correlation Matrices<br><sub style='font-size: 16px; color: gray;'>Mutual Information Score: 0.9817</sub>\n"
        },
        "width": 1200,
        "xaxis": {
         "anchor": "y",
         "domain": [
          0,
          0.2888888888888889
         ]
        },
        "xaxis2": {
         "anchor": "y2",
         "domain": [
          0.35555555555555557,
          0.6444444444444445
         ]
        },
        "xaxis3": {
         "anchor": "y3",
         "domain": [
          0.7111111111111111,
          1
         ]
        },
        "yaxis": {
         "anchor": "x",
         "domain": [
          0,
          1
         ]
        },
        "yaxis2": {
         "anchor": "x2",
         "domain": [
          0,
          1
         ],
         "matches": "y",
         "showticklabels": false
        },
        "yaxis3": {
         "anchor": "x3",
         "domain": [
          0,
          1
         ],
         "matches": "y",
         "showticklabels": false
        }
       }
      },
      "text/html": [
       "<div>                            <div id=\"6ee6f8f3-2f1c-41e0-bc20-79a0b9fd57d7\" class=\"plotly-graph-div\" style=\"height:500px; width:1200px;\"></div>            <script type=\"text/javascript\">                require([\"plotly\"], function(Plotly) {                    window.PLOTLYENV=window.PLOTLYENV || {};                                    if (document.getElementById(\"6ee6f8f3-2f1c-41e0-bc20-79a0b9fd57d7\")) {                    Plotly.newPlot(                        \"6ee6f8f3-2f1c-41e0-bc20-79a0b9fd57d7\",                        [{\"colorbar\":{\"title\":{\"text\":\"Correlation\"}},\"colorscale\":[[0.0,\"rgb(103,0,31)\"],[0.1,\"rgb(178,24,43)\"],[0.2,\"rgb(214,96,77)\"],[0.3,\"rgb(244,165,130)\"],[0.4,\"rgb(253,219,199)\"],[0.5,\"rgb(247,247,247)\"],[0.6,\"rgb(209,229,240)\"],[0.7,\"rgb(146,197,222)\"],[0.8,\"rgb(67,147,195)\"],[0.9,\"rgb(33,102,172)\"],[1.0,\"rgb(5,48,97)\"]],\"x\":[\"age\",\"work_class\",\"education\",\"marital_status\",\"occupation\",\"relationship\",\"race\",\"sex\",\"capital_gain\",\"capital_loss\",\"hours_per_week\",\"native_country\"],\"y\":[\"native_country\",\"hours_per_week\",\"capital_loss\",\"capital_gain\",\"sex\",\"race\",\"relationship\",\"occupation\",\"marital_status\",\"education\",\"work_class\",\"age\"],\"z\":[[0.0115,0.0224,0.0552,0.0142,0.0284,0.018,0.0755,0.0156,0.0084,0.0193,0.0138,null],[0.0452,0.0471,0.0441,0.0403,0.0843,0.0622,0.0266,0.0319,0.0226,0.0313,null,null],[0.0169,0.0218,0.0243,0.0218,0.028,0.0171,0.0192,0.0168,0.0056,null,null,null],[0.0235,0.0146,0.0201,0.0181,0.0225,0.0136,0.0068,0.0054,null,null,null,null],[0.0062,0.0321,0.0096,0.1443,0.0749,0.2439,0.0062,null,null,null,null,null],[0.0082,0.0236,0.0276,0.0154,0.0337,0.0294,null,null,null,null,null,null],[0.0794,0.0537,0.0344,0.5266,0.0836,null,null,null,null,null,null,null],[0.0411,0.2153,0.139,0.0734,null,null,null,null,null,null,null,null],[0.1474,0.0357,0.0274,null,null,null,null,null,null,null,null,null],[0.0301,0.0518,null,null,null,null,null,null,null,null,null,null],[0.0391,null,null,null,null,null,null,null,null,null,null,null],[null,null,null,null,null,null,null,null,null,null,null,null]],\"zmax\":1,\"zmin\":-1,\"type\":\"heatmap\",\"xaxis\":\"x\",\"yaxis\":\"y\"},{\"colorbar\":{\"title\":{\"text\":\"Correlation\"}},\"colorscale\":[[0.0,\"rgb(103,0,31)\"],[0.1,\"rgb(178,24,43)\"],[0.2,\"rgb(214,96,77)\"],[0.3,\"rgb(244,165,130)\"],[0.4,\"rgb(253,219,199)\"],[0.5,\"rgb(247,247,247)\"],[0.6,\"rgb(209,229,240)\"],[0.7,\"rgb(146,197,222)\"],[0.8,\"rgb(67,147,195)\"],[0.9,\"rgb(33,102,172)\"],[1.0,\"rgb(5,48,97)\"]],\"x\":[\"age\",\"work_class\",\"education\",\"marital_status\",\"occupation\",\"relationship\",\"race\",\"sex\",\"capital_gain\",\"capital_loss\",\"hours_per_week\",\"native_country\"],\"y\":[\"native_country\",\"hours_per_week\",\"capital_loss\",\"capital_gain\",\"sex\",\"race\",\"relationship\",\"occupation\",\"marital_status\",\"education\",\"work_class\",\"age\"],\"z\":[[0.0126,0.0176,0.0189,0.0142,0.0243,0.0225,0.0075,0.0056,0.0024,0.0107,0.0124,null],[0.083,0.0622,0.0424,0.0414,0.0653,0.0515,0.0067,0.0481,0.0138,0.0269,null,null],[0.034,0.0345,0.0286,0.019,0.0333,0.0374,0.013,0.0102,0.0015,null,null,null],[0.0095,0.0025,0.0108,0.0049,0.0076,0.0061,0.0212,0.0049,null,null,null,null],[0.0096,0.0111,0.002,0.1303,0.0476,0.1415,0.0285,null,null,null,null,null],[0.0118,0.0191,0.0088,0.0096,0.0201,0.026,null,null,null,null,null,null],[0.0725,0.0225,0.0386,0.2827,0.0678,null,null,null,null,null,null,null],[0.0394,0.0764,0.0549,0.0601,null,null,null,null,null,null,null,null],[0.1282,0.0223,0.0192,null,null,null,null,null,null,null,null,null],[0.0351,0.0334,null,null,null,null,null,null,null,null,null,null],[0.0199,null,null,null,null,null,null,null,null,null,null,null],[null,null,null,null,null,null,null,null,null,null,null,null]],\"zmax\":1,\"zmin\":-1,\"type\":\"heatmap\",\"xaxis\":\"x2\",\"yaxis\":\"y2\"},{\"colorbar\":{\"title\":{\"text\":\"Correlation\"}},\"colorscale\":[[0.0,\"rgb(103,0,31)\"],[0.1,\"rgb(178,24,43)\"],[0.2,\"rgb(214,96,77)\"],[0.3,\"rgb(244,165,130)\"],[0.4,\"rgb(253,219,199)\"],[0.5,\"rgb(247,247,247)\"],[0.6,\"rgb(209,229,240)\"],[0.7,\"rgb(146,197,222)\"],[0.8,\"rgb(67,147,195)\"],[0.9,\"rgb(33,102,172)\"],[1.0,\"rgb(5,48,97)\"]],\"x\":[\"age\",\"work_class\",\"education\",\"marital_status\",\"occupation\",\"relationship\",\"race\",\"sex\",\"capital_gain\",\"capital_loss\",\"hours_per_week\",\"native_country\"],\"y\":[\"native_country\",\"hours_per_week\",\"capital_loss\",\"capital_gain\",\"sex\",\"race\",\"relationship\",\"occupation\",\"marital_status\",\"education\",\"work_class\",\"age\"],\"z\":[[0.0011,0.0048,0.0363,0.0,0.0041,0.0045,0.068,0.01,0.006,0.0086,0.0014,null],[0.0378,0.0151,0.0017,0.0011,0.019,0.0107,0.0199,0.0162,0.0088,0.0044,null,null],[0.0171,0.0127,0.0043,0.0028,0.0053,0.0203,0.0062,0.0066,0.0041,null,null,null],[0.014,0.0121,0.0093,0.0132,0.0149,0.0075,0.0144,0.0005,null,null,null,null],[0.0034,0.021,0.0076,0.014,0.0273,0.1024,0.0223,null,null,null,null,null],[0.0036,0.0045,0.0188,0.0058,0.0136,0.0034,null,null,null,null,null,null],[0.0069,0.0312,0.0042,0.2439,0.0158,null,null,null,null,null,null,null],[0.0017,0.1389,0.0841,0.0133,null,null,null,null,null,null,null,null],[0.0192,0.0134,0.0082,null,null,null,null,null,null,null,null,null],[0.005,0.0184,null,null,null,null,null,null,null,null,null,null],[0.0192,null,null,null,null,null,null,null,null,null,null,null],[null,null,null,null,null,null,null,null,null,null,null,null]],\"zmax\":1,\"zmin\":-1,\"type\":\"heatmap\",\"xaxis\":\"x3\",\"yaxis\":\"y3\"}],                        {\"template\":{\"data\":{\"histogram2dcontour\":[{\"type\":\"histogram2dcontour\",\"colorbar\":{\"outlinewidth\":0,\"ticks\":\"\"},\"colorscale\":[[0.0,\"#0d0887\"],[0.1111111111111111,\"#46039f\"],[0.2222222222222222,\"#7201a8\"],[0.3333333333333333,\"#9c179e\"],[0.4444444444444444,\"#bd3786\"],[0.5555555555555556,\"#d8576b\"],[0.6666666666666666,\"#ed7953\"],[0.7777777777777778,\"#fb9f3a\"],[0.8888888888888888,\"#fdca26\"],[1.0,\"#f0f921\"]]}],\"choropleth\":[{\"type\":\"choropleth\",\"colorbar\":{\"outlinewidth\":0,\"ticks\":\"\"}}],\"histogram2d\":[{\"type\":\"histogram2d\",\"colorbar\":{\"outlinewidth\":0,\"ticks\":\"\"},\"colorscale\":[[0.0,\"#0d0887\"],[0.1111111111111111,\"#46039f\"],[0.2222222222222222,\"#7201a8\"],[0.3333333333333333,\"#9c179e\"],[0.4444444444444444,\"#bd3786\"],[0.5555555555555556,\"#d8576b\"],[0.6666666666666666,\"#ed7953\"],[0.7777777777777778,\"#fb9f3a\"],[0.8888888888888888,\"#fdca26\"],[1.0,\"#f0f921\"]]}],\"heatmap\":[{\"type\":\"heatmap\",\"colorbar\":{\"outlinewidth\":0,\"ticks\":\"\"},\"colorscale\":[[0.0,\"#0d0887\"],[0.1111111111111111,\"#46039f\"],[0.2222222222222222,\"#7201a8\"],[0.3333333333333333,\"#9c179e\"],[0.4444444444444444,\"#bd3786\"],[0.5555555555555556,\"#d8576b\"],[0.6666666666666666,\"#ed7953\"],[0.7777777777777778,\"#fb9f3a\"],[0.8888888888888888,\"#fdca26\"],[1.0,\"#f0f921\"]]}],\"heatmapgl\":[{\"type\":\"heatmapgl\",\"colorbar\":{\"outlinewidth\":0,\"ticks\":\"\"},\"colorscale\":[[0.0,\"#0d0887\"],[0.1111111111111111,\"#46039f\"],[0.2222222222222222,\"#7201a8\"],[0.3333333333333333,\"#9c179e\"],[0.4444444444444444,\"#bd3786\"],[0.5555555555555556,\"#d8576b\"],[0.6666666666666666,\"#ed7953\"],[0.7777777777777778,\"#fb9f3a\"],[0.8888888888888888,\"#fdca26\"],[1.0,\"#f0f921\"]]}],\"contourcarpet\":[{\"type\":\"contourcarpet\",\"colorbar\":{\"outlinewidth\":0,\"ticks\":\"\"}}],\"contour\":[{\"type\":\"contour\",\"colorbar\":{\"outlinewidth\":0,\"ticks\":\"\"},\"colorscale\":[[0.0,\"#0d0887\"],[0.1111111111111111,\"#46039f\"],[0.2222222222222222,\"#7201a8\"],[0.3333333333333333,\"#9c179e\"],[0.4444444444444444,\"#bd3786\"],[0.5555555555555556,\"#d8576b\"],[0.6666666666666666,\"#ed7953\"],[0.7777777777777778,\"#fb9f3a\"],[0.8888888888888888,\"#fdca26\"],[1.0,\"#f0f921\"]]}],\"surface\":[{\"type\":\"surface\",\"colorbar\":{\"outlinewidth\":0,\"ticks\":\"\"},\"colorscale\":[[0.0,\"#0d0887\"],[0.1111111111111111,\"#46039f\"],[0.2222222222222222,\"#7201a8\"],[0.3333333333333333,\"#9c179e\"],[0.4444444444444444,\"#bd3786\"],[0.5555555555555556,\"#d8576b\"],[0.6666666666666666,\"#ed7953\"],[0.7777777777777778,\"#fb9f3a\"],[0.8888888888888888,\"#fdca26\"],[1.0,\"#f0f921\"]]}],\"mesh3d\":[{\"type\":\"mesh3d\",\"colorbar\":{\"outlinewidth\":0,\"ticks\":\"\"}}],\"scatter\":[{\"fillpattern\":{\"fillmode\":\"overlay\",\"size\":10,\"solidity\":0.2},\"type\":\"scatter\"}],\"parcoords\":[{\"type\":\"parcoords\",\"line\":{\"colorbar\":{\"outlinewidth\":0,\"ticks\":\"\"}}}],\"scatterpolargl\":[{\"type\":\"scatterpolargl\",\"marker\":{\"colorbar\":{\"outlinewidth\":0,\"ticks\":\"\"}}}],\"bar\":[{\"error_x\":{\"color\":\"#2a3f5f\"},\"error_y\":{\"color\":\"#2a3f5f\"},\"marker\":{\"line\":{\"color\":\"#E5ECF6\",\"width\":0.5},\"pattern\":{\"fillmode\":\"overlay\",\"size\":10,\"solidity\":0.2}},\"type\":\"bar\"}],\"scattergeo\":[{\"type\":\"scattergeo\",\"marker\":{\"colorbar\":{\"outlinewidth\":0,\"ticks\":\"\"}}}],\"scatterpolar\":[{\"type\":\"scatterpolar\",\"marker\":{\"colorbar\":{\"outlinewidth\":0,\"ticks\":\"\"}}}],\"histogram\":[{\"marker\":{\"pattern\":{\"fillmode\":\"overlay\",\"size\":10,\"solidity\":0.2}},\"type\":\"histogram\"}],\"scattergl\":[{\"type\":\"scattergl\",\"marker\":{\"colorbar\":{\"outlinewidth\":0,\"ticks\":\"\"}}}],\"scatter3d\":[{\"type\":\"scatter3d\",\"line\":{\"colorbar\":{\"outlinewidth\":0,\"ticks\":\"\"}},\"marker\":{\"colorbar\":{\"outlinewidth\":0,\"ticks\":\"\"}}}],\"scattermapbox\":[{\"type\":\"scattermapbox\",\"marker\":{\"colorbar\":{\"outlinewidth\":0,\"ticks\":\"\"}}}],\"scatterternary\":[{\"type\":\"scatterternary\",\"marker\":{\"colorbar\":{\"outlinewidth\":0,\"ticks\":\"\"}}}],\"scattercarpet\":[{\"type\":\"scattercarpet\",\"marker\":{\"colorbar\":{\"outlinewidth\":0,\"ticks\":\"\"}}}],\"carpet\":[{\"aaxis\":{\"endlinecolor\":\"#2a3f5f\",\"gridcolor\":\"white\",\"linecolor\":\"white\",\"minorgridcolor\":\"white\",\"startlinecolor\":\"#2a3f5f\"},\"baxis\":{\"endlinecolor\":\"#2a3f5f\",\"gridcolor\":\"white\",\"linecolor\":\"white\",\"minorgridcolor\":\"white\",\"startlinecolor\":\"#2a3f5f\"},\"type\":\"carpet\"}],\"table\":[{\"cells\":{\"fill\":{\"color\":\"#EBF0F8\"},\"line\":{\"color\":\"white\"}},\"header\":{\"fill\":{\"color\":\"#C8D4E3\"},\"line\":{\"color\":\"white\"}},\"type\":\"table\"}],\"barpolar\":[{\"marker\":{\"line\":{\"color\":\"#E5ECF6\",\"width\":0.5},\"pattern\":{\"fillmode\":\"overlay\",\"size\":10,\"solidity\":0.2}},\"type\":\"barpolar\"}],\"pie\":[{\"automargin\":true,\"type\":\"pie\"}]},\"layout\":{\"autotypenumbers\":\"strict\",\"colorway\":[\"#636efa\",\"#EF553B\",\"#00cc96\",\"#ab63fa\",\"#FFA15A\",\"#19d3f3\",\"#FF6692\",\"#B6E880\",\"#FF97FF\",\"#FECB52\"],\"font\":{\"color\":\"#2a3f5f\"},\"hovermode\":\"closest\",\"hoverlabel\":{\"align\":\"left\"},\"paper_bgcolor\":\"white\",\"plot_bgcolor\":\"#E5ECF6\",\"polar\":{\"bgcolor\":\"#E5ECF6\",\"angularaxis\":{\"gridcolor\":\"white\",\"linecolor\":\"white\",\"ticks\":\"\"},\"radialaxis\":{\"gridcolor\":\"white\",\"linecolor\":\"white\",\"ticks\":\"\"}},\"ternary\":{\"bgcolor\":\"#E5ECF6\",\"aaxis\":{\"gridcolor\":\"white\",\"linecolor\":\"white\",\"ticks\":\"\"},\"baxis\":{\"gridcolor\":\"white\",\"linecolor\":\"white\",\"ticks\":\"\"},\"caxis\":{\"gridcolor\":\"white\",\"linecolor\":\"white\",\"ticks\":\"\"}},\"coloraxis\":{\"colorbar\":{\"outlinewidth\":0,\"ticks\":\"\"}},\"colorscale\":{\"sequential\":[[0.0,\"#0d0887\"],[0.1111111111111111,\"#46039f\"],[0.2222222222222222,\"#7201a8\"],[0.3333333333333333,\"#9c179e\"],[0.4444444444444444,\"#bd3786\"],[0.5555555555555556,\"#d8576b\"],[0.6666666666666666,\"#ed7953\"],[0.7777777777777778,\"#fb9f3a\"],[0.8888888888888888,\"#fdca26\"],[1.0,\"#f0f921\"]],\"sequentialminus\":[[0.0,\"#0d0887\"],[0.1111111111111111,\"#46039f\"],[0.2222222222222222,\"#7201a8\"],[0.3333333333333333,\"#9c179e\"],[0.4444444444444444,\"#bd3786\"],[0.5555555555555556,\"#d8576b\"],[0.6666666666666666,\"#ed7953\"],[0.7777777777777778,\"#fb9f3a\"],[0.8888888888888888,\"#fdca26\"],[1.0,\"#f0f921\"]],\"diverging\":[[0,\"#8e0152\"],[0.1,\"#c51b7d\"],[0.2,\"#de77ae\"],[0.3,\"#f1b6da\"],[0.4,\"#fde0ef\"],[0.5,\"#f7f7f7\"],[0.6,\"#e6f5d0\"],[0.7,\"#b8e186\"],[0.8,\"#7fbc41\"],[0.9,\"#4d9221\"],[1,\"#276419\"]]},\"xaxis\":{\"gridcolor\":\"white\",\"linecolor\":\"white\",\"ticks\":\"\",\"title\":{\"standoff\":15},\"zerolinecolor\":\"white\",\"automargin\":true,\"zerolinewidth\":2},\"yaxis\":{\"gridcolor\":\"white\",\"linecolor\":\"white\",\"ticks\":\"\",\"title\":{\"standoff\":15},\"zerolinecolor\":\"white\",\"automargin\":true,\"zerolinewidth\":2},\"scene\":{\"xaxis\":{\"backgroundcolor\":\"#E5ECF6\",\"gridcolor\":\"white\",\"linecolor\":\"white\",\"showbackground\":true,\"ticks\":\"\",\"zerolinecolor\":\"white\",\"gridwidth\":2},\"yaxis\":{\"backgroundcolor\":\"#E5ECF6\",\"gridcolor\":\"white\",\"linecolor\":\"white\",\"showbackground\":true,\"ticks\":\"\",\"zerolinecolor\":\"white\",\"gridwidth\":2},\"zaxis\":{\"backgroundcolor\":\"#E5ECF6\",\"gridcolor\":\"white\",\"linecolor\":\"white\",\"showbackground\":true,\"ticks\":\"\",\"zerolinecolor\":\"white\",\"gridwidth\":2}},\"shapedefaults\":{\"line\":{\"color\":\"#2a3f5f\"}},\"annotationdefaults\":{\"arrowcolor\":\"#2a3f5f\",\"arrowhead\":0,\"arrowwidth\":1},\"geo\":{\"bgcolor\":\"white\",\"landcolor\":\"#E5ECF6\",\"subunitcolor\":\"white\",\"showland\":true,\"showlakes\":true,\"lakecolor\":\"white\"},\"title\":{\"x\":0.05},\"mapbox\":{\"style\":\"light\"}}},\"xaxis\":{\"anchor\":\"y\",\"domain\":[0.0,0.2888888888888889]},\"yaxis\":{\"anchor\":\"x\",\"domain\":[0.0,1.0]},\"xaxis2\":{\"anchor\":\"y2\",\"domain\":[0.35555555555555557,0.6444444444444445]},\"yaxis2\":{\"anchor\":\"x2\",\"domain\":[0.0,1.0],\"matches\":\"y\",\"showticklabels\":false},\"xaxis3\":{\"anchor\":\"y3\",\"domain\":[0.7111111111111111,1.0]},\"yaxis3\":{\"anchor\":\"x3\",\"domain\":[0.0,1.0],\"matches\":\"y\",\"showticklabels\":false},\"annotations\":[{\"font\":{\"size\":16},\"showarrow\":false,\"text\":\"original_mutual_information\",\"x\":0.14444444444444446,\"xanchor\":\"center\",\"xref\":\"paper\",\"y\":1.0,\"yanchor\":\"bottom\",\"yref\":\"paper\"},{\"font\":{\"size\":16},\"showarrow\":false,\"text\":\"synthetic_mutual_information\",\"x\":0.5,\"xanchor\":\"center\",\"xref\":\"paper\",\"y\":1.0,\"yanchor\":\"bottom\",\"yref\":\"paper\"},{\"font\":{\"size\":16},\"showarrow\":false,\"text\":\"diff_correlation_matrix\",\"x\":0.8555555555555556,\"xanchor\":\"center\",\"xref\":\"paper\",\"y\":1.0,\"yanchor\":\"bottom\",\"yref\":\"paper\"}],\"title\":{\"text\":\"Correlation Matrices\\u003cbr\\u003e\\u003csub style='font-size: 16px; color: gray;'\\u003eMutual Information Score: 0.9817\\u003c\\u002fsub\\u003e\\n\"},\"height\":500,\"width\":1200},                        {\"responsive\": true}                    ).then(function(){\n",
       "                            \n",
       "var gd = document.getElementById('6ee6f8f3-2f1c-41e0-bc20-79a0b9fd57d7');\n",
       "var x = new MutationObserver(function (mutations, observer) {{\n",
       "        var display = window.getComputedStyle(gd).display;\n",
       "        if (!display || display === 'none') {{\n",
       "            console.log([gd, 'removed!']);\n",
       "            Plotly.purge(gd);\n",
       "            observer.disconnect();\n",
       "        }}\n",
       "}});\n",
       "\n",
       "// Listen for the removal of the full notebook cells\n",
       "var notebookContainer = gd.closest('#notebook-container');\n",
       "if (notebookContainer) {{\n",
       "    x.observe(notebookContainer, {childList: true});\n",
       "}}\n",
       "\n",
       "// Listen for the clearing of the current output cell\n",
       "var outputEl = gd.closest('.output');\n",
       "if (outputEl) {{\n",
       "    x.observe(outputEl, {childList: true});\n",
       "}}\n",
       "\n",
       "                        })                };                });            </script>        </div>"
      ]
     },
     "metadata": {},
     "output_type": "display_data"
    }
   ],
   "source": [
    "from clearbox_synthetic import MutualInformation\n",
    "\n",
    "import plotly.graph_objects as go\n",
    "import plotly.subplots as sp\n",
    "\n",
    "\n",
    "mi = MutualInformation(train_dataset, synthetic_dataset).get()\n",
    "\n",
    "def plot_mutual_info(mi):\n",
    "    keys = [\"original_mutual_information\", \"synthetic_mutual_information\", \"diff_correlation_matrix\"]\n",
    "\n",
    "    fig = sp.make_subplots(\n",
    "        rows=1, \n",
    "        cols=3, \n",
    "        shared_yaxes=True, \n",
    "        subplot_titles=keys\n",
    "    )\n",
    "\n",
    "    for i, key in enumerate(keys, start=1):\n",
    "        matrix = np.array(mi[key])\n",
    "\n",
    "        # Mask the upper triangle (including the diagonal)\n",
    "        mask = np.triu(np.ones_like(matrix, dtype=bool))\n",
    "        lower_triangle_matrix = np.where(mask, np.nan, matrix)\n",
    "\n",
    "        df = pd.DataFrame(\n",
    "            np.flip(lower_triangle_matrix,0), \n",
    "            columns=mi[\"features\"], \n",
    "            index=list(reversed(mi[\"features\"]))\n",
    "        )\n",
    "\n",
    "        fig.add_trace(\n",
    "            go.Heatmap(\n",
    "                z=df.values,\n",
    "                x=df.columns,\n",
    "                y=df.index,\n",
    "                colorscale=\"RdBu\",  \n",
    "                zmin=-1,\n",
    "                zmax=1,\n",
    "                colorbar=dict(title=\"Correlation\")\n",
    "            ),\n",
    "            row=1,\n",
    "            col=i\n",
    "        )\n",
    "\n",
    "    fig.update_layout(\n",
    "        # title=f\"Correlation Matrices - Mutual Information Score: {mi['score']}\",\n",
    "        title={\"text\": f\"Correlation Matrices<br><sub style='font-size: 16px; color: gray;'>Mutual Information Score: {mi['score']}</sub>\"},\n",
    "        height=500,\n",
    "        width=1200,\n",
    "    )\n",
    "\n",
    "    fig.show()\n",
    "\n",
    "# Plot the correlation matrices\n",
    "plot_mutual_info(mi)"
   ]
  },
  {
   "cell_type": "markdown",
   "metadata": {},
   "source": [
    "### 2.2.4 Statistical properties of features\n",
    "The FeaturesComparison class compares the statistical\n",
    "properties of features between an original training dataset and a synthetic dataset. It\n",
    "provides detailed statistics for numerical, categorical, and datetime features."
   ]
  },
  {
   "cell_type": "code",
   "execution_count": 196,
   "metadata": {},
   "outputs": [],
   "source": [
    "from clearbox_synthetic import FeaturesComparison\n",
    "\n",
    "fc = FeaturesComparison(\n",
    "        train_dataset, \n",
    "        synthetic_dataset, \n",
    "        preprocessor\n",
    "    ).get()"
   ]
  },
  {
   "cell_type": "code",
   "execution_count": 207,
   "metadata": {},
   "outputs": [
    {
     "name": "stdout",
     "output_type": "stream",
     "text": [
      "Feature:  age\n",
      "-----------------------\n",
      "             type  na_values  unique_values     mean      std   min  \\\n",
      "training   number        0.0           73.0  38.5816  13.6404  17.0   \n",
      "synthetic  number        0.0           73.0  38.6383  13.6553  17.0   \n",
      "\n",
      "           first_quartile  second_quartile  third_quartile   max  \n",
      "training             28.0             37.0            48.0  90.0  \n",
      "synthetic            28.0             37.0            48.0  90.0  \n",
      "\n",
      "===================================================================\n",
      "\n",
      "Feature:  education\n",
      "-----------------------\n",
      "                  type  na_values  unique_values\n",
      "training   categorical        0.0           16.0\n",
      "synthetic  categorical        0.0            9.0\n",
      "\n",
      "===================================================================\n",
      "\n",
      "Feature:  sex\n",
      "-----------------------\n",
      "                  type  na_values  unique_values\n",
      "training   categorical        0.0            2.0\n",
      "synthetic  categorical        0.0            2.0\n",
      "\n",
      "===================================================================\n",
      "\n"
     ]
    }
   ],
   "source": [
    "# Example of statistical properties comparison between the training and the synthetic dataset for variable \"age\"\n",
    "from typing import List\n",
    "\n",
    "def display_feature_comparison(fc, features: List):\n",
    "    for feature in features:\n",
    "        if \"values\" in fc[feature].keys():\n",
    "            fc[feature].pop(\"values\")\n",
    "        print(\"Feature: \", feature)\n",
    "        print(\"-----------------------\")\n",
    "        print(pd.DataFrame(fc[feature]))\n",
    "        print(\"\\n===================================================================\\n\")\n",
    "\n",
    "features = [\"age\", \"education\", \"sex\"]\n",
    "display_feature_comparison(fc, features)"
   ]
  },
  {
   "cell_type": "markdown",
   "metadata": {},
   "source": [
    "### 2.2.5 Query test\n",
    "The QueryPower class assesses the quality of a synthetic dataset\n",
    "by running queries that compare it to the original dataset. The closer the query results\n",
    "are between both datasets, the higher the quality of the synthetic data."
   ]
  },
  {
   "cell_type": "code",
   "execution_count": 174,
   "metadata": {},
   "outputs": [
    {
     "name": "stdout",
     "output_type": "stream",
     "text": [
      "Query Power score: 0.9867\n"
     ]
    },
    {
     "data": {
      "text/html": [
       "<div>\n",
       "<style scoped>\n",
       "    .dataframe tbody tr th:only-of-type {\n",
       "        vertical-align: middle;\n",
       "    }\n",
       "\n",
       "    .dataframe tbody tr th {\n",
       "        vertical-align: top;\n",
       "    }\n",
       "\n",
       "    .dataframe thead th {\n",
       "        text-align: right;\n",
       "    }\n",
       "</style>\n",
       "<table border=\"1\" class=\"dataframe\">\n",
       "  <thead>\n",
       "    <tr style=\"text-align: right;\">\n",
       "      <th></th>\n",
       "      <th>Query</th>\n",
       "      <th>original_df</th>\n",
       "      <th>synthetic_df</th>\n",
       "    </tr>\n",
       "  </thead>\n",
       "  <tbody>\n",
       "    <tr>\n",
       "      <th>0</th>\n",
       "      <td>`capital_gain` &gt;= 0.0 and `native_country` != ...</td>\n",
       "      <td>31918</td>\n",
       "      <td>31633</td>\n",
       "    </tr>\n",
       "    <tr>\n",
       "      <th>1</th>\n",
       "      <td>`work_class` != 'Self-emp-inc' and `marital_st...</td>\n",
       "      <td>30481</td>\n",
       "      <td>30086</td>\n",
       "    </tr>\n",
       "    <tr>\n",
       "      <th>2</th>\n",
       "      <td>`relationship` != 'Unmarried' and `education` ...</td>\n",
       "      <td>1198</td>\n",
       "      <td>1086</td>\n",
       "    </tr>\n",
       "    <tr>\n",
       "      <th>3</th>\n",
       "      <td>`capital_loss` &lt;= 0.0 and `sex` == 'Female'</td>\n",
       "      <td>10402</td>\n",
       "      <td>10667</td>\n",
       "    </tr>\n",
       "    <tr>\n",
       "      <th>4</th>\n",
       "      <td>`occupation` != 'Prof-specialty' and `race` !=...</td>\n",
       "      <td>27568</td>\n",
       "      <td>26461</td>\n",
       "    </tr>\n",
       "  </tbody>\n",
       "</table>\n",
       "</div>"
      ],
      "text/plain": [
       "                                               Query  original_df  \\\n",
       "0  `capital_gain` >= 0.0 and `native_country` != ...        31918   \n",
       "1  `work_class` != 'Self-emp-inc' and `marital_st...        30481   \n",
       "2  `relationship` != 'Unmarried' and `education` ...         1198   \n",
       "3        `capital_loss` <= 0.0 and `sex` == 'Female'        10402   \n",
       "4  `occupation` != 'Prof-specialty' and `race` !=...        27568   \n",
       "\n",
       "   synthetic_df  \n",
       "0         31633  \n",
       "1         30086  \n",
       "2          1086  \n",
       "3         10667  \n",
       "4         26461  "
      ]
     },
     "execution_count": 174,
     "metadata": {},
     "output_type": "execute_result"
    }
   ],
   "source": [
    "from clearbox_synthetic import QueryPower\n",
    "\n",
    "qp = QueryPower(train_dataset, synthetic_dataset, preprocessor).get()\n",
    "\n",
    "print(f\"Query Power score: {qp['score']}\")\n",
    "qp_df = pd.DataFrame(qp[\"queries\"])\n",
    "qp_df.rename(columns={\"text\": \"Query\"}, inplace=True)\n",
    "qp_df"
   ]
  },
  {
   "cell_type": "markdown",
   "metadata": {},
   "source": [
    "### 2.2.6 Reconstruction error\n",
    "The ReconstructionError class calculates the reconstruction\n",
    "error for both original and synthetic datasets using a specified TabularEngine.\n",
    "The reconstruction error histograms are generated to compare the quality of synthetic data."
   ]
  },
  {
   "cell_type": "code",
   "execution_count": null,
   "metadata": {},
   "outputs": [],
   "source": [
    "from clearbox_synthetic import ReconstructionError\n",
    "\n",
    "reconstruction_error_hist = ReconstructionError(train_dataset, synthetic_dataset, engine, preprocessor).get()"
   ]
  },
  {
   "cell_type": "code",
   "execution_count": 175,
   "metadata": {},
   "outputs": [
    {
     "data": {
      "image/png": "[encoded data removed]",
      "text/plain": [
       "<Figure size 640x480 with 1 Axes>"
      ]
     },
     "metadata": {},
     "output_type": "display_data"
    }
   ],
   "source": [
    "# Plot Reconstruction Error Histogram\n",
    "def plot_reconstruction_error(reconstruction_error_hist):\n",
    "    bin_edges      = reconstruction_error_hist[\"bin_edges\"]\n",
    "    bin_widths     = np.diff(bin_edges)\n",
    "    original_hist  = reconstruction_error_hist[\"original_hist\"]  \n",
    "    synthetic_hist = reconstruction_error_hist[\"synthetic_hist\"]\n",
    "\n",
    "    original_relative_hist  = original_hist  / np.sum(original_hist)  # Normalized frequencies\n",
    "    synthetic_relative_hist = synthetic_hist / np.sum(synthetic_hist) # Normalized frequencies\n",
    "\n",
    "    plt.bar(bin_edges[:-1], original_relative_hist[:-1],  label='Original',  width=bin_widths, align='edge', alpha=0.8)\n",
    "    plt.bar(bin_edges[:-1], synthetic_relative_hist[:-1], label='Synthetic', width=bin_widths, align='edge', alpha=0.6)\n",
    "\n",
    "    plt.xlabel('Bin Ranges')\n",
    "    plt.ylabel('Frequency')\n",
    "    plt.title('Resconstruction Error Histograms')\n",
    "    plt.legend()\n",
    "    plt.grid(axis='y', linestyle='--', alpha=0.7)\n",
    "    plt.show()\n",
    "\n",
    "plot_reconstruction_error(reconstruction_error_hist)"
   ]
  }
 ],
 "metadata": {
  "kernelspec": {
   "display_name": "projects",
   "language": "python",
   "name": "python3"
  },
  "language_info": {
   "codemirror_mode": {
    "name": "ipython",
    "version": 3
   },
   "file_extension": ".py",
   "mimetype": "text/x-python",
   "name": "python",
   "nbconvert_exporter": "python",
   "pygments_lexer": "ipython3",
   "version": "3.10.12"
  }
 },
 "nbformat": 4,
 "nbformat_minor": 2
}
