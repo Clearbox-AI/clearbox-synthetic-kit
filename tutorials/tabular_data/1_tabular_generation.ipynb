{
 "cells": [
  {
   "cell_type": "markdown",
   "metadata": {},
   "source": [
    "# Tabular synthetic data \n",
    "### A generation example with **Clearbox Synthetic Kit**\n",
    "\n",
    "This notebook walks you through the tabular synthetic data generation process with **Clearbox Synthetic Kit**.\n",
    "\n",
    "You can run this notebook on Google Colab or on your local machine.<br> \n",
    "In the second case, we highly recommend to create a dedicated virtual environment."
   ]
  },
  {
   "cell_type": "markdown",
   "metadata": {},
   "source": [
    "<div class=\"alert alert-secondary\">\n",
    "To run this notebook, make sure you change the runtime to <strong>GPU</strong><br>\n",
    "<hr>\n",
    "<strong>Runtime</strong> --> <strong>Change Runtime Type</strong> <br>\n",
    "and set <strong>Hardware Accelerator</strong> to \"<strong>GPU</strong>\"\n",
    "</div>"
   ]
  },
  {
   "cell_type": "code",
   "execution_count": null,
   "metadata": {},
   "outputs": [],
   "source": [
    "# Install the library and its dependencies\n",
    "\n",
    "%pip install clearbox-synthetic-kit"
   ]
  },
  {
   "cell_type": "code",
   "execution_count": null,
   "metadata": {},
   "outputs": [],
   "source": [
    "# Import necessary dependencies\n",
    "import os\n",
    "\n",
    "import numpy as np\n",
    "import pandas as pd\n",
    "import matplotlib.pyplot as plt\n",
    "\n",
    "from clearbox_synthetic.utils import Dataset, Preprocessor\n",
    "from clearbox_synthetic.generation import TabularEngine, LabeledSynthesizer"
   ]
  },
  {
   "cell_type": "markdown",
   "metadata": {},
   "source": [
    "## 0. Data import and preparation"
   ]
  },
  {
   "cell_type": "code",
   "execution_count": null,
   "metadata": {},
   "outputs": [],
   "source": [
    "# Load the example datasets from GitHub\n",
    "\n",
    "file_path = \"https://raw.githubusercontent.com/Clearbox-AI/clearbox-synthetic-kit/main/tests/resources/uci_adult_dataset\"\n",
    "\n",
    "train_dataset = Dataset.from_csv(\n",
    "        os.path.join(file_path, \"dataset.csv\"),\n",
    "        target_column=\"income\",\n",
    "        regression=False\n",
    "    )\n",
    "\n",
    "validation_dataset = Dataset.from_csv(\n",
    "        os.path.join(file_path, \"validation_dataset.csv\"),\n",
    "        column_types=train_dataset.column_types,\n",
    "        target_column=train_dataset.target_column,\n",
    "        regression=train_dataset.regression\n",
    "    )"
   ]
  },
  {
   "cell_type": "markdown",
   "metadata": {},
   "source": [
    "### Data pre-processing\n",
    "Datasets are pre-processd with the **Preprocessor** class, which prepares data for the subsequent steps."
   ]
  },
  {
   "cell_type": "code",
   "execution_count": null,
   "metadata": {},
   "outputs": [],
   "source": [
    "# Preprocessor initialization\n",
    "preprocessor = Preprocessor(train_dataset) \n",
    "\n",
    "# Preprocessing training dataset \n",
    "X_train_raw = train_dataset.get_x() # Get all columns of the training dataset except the target column (y)\n",
    "X_train = preprocessor.transform(X_train_raw)"
   ]
  },
  {
   "cell_type": "code",
   "execution_count": null,
   "metadata": {},
   "outputs": [],
   "source": [
    "# Preprocessing validation dataset\n",
    "\n",
    "X_val_raw = validation_dataset.get_x() # Get all columns of the validation dataset except the target column (y)\n",
    "X_val = preprocessor.transform(X_val_raw)"
   ]
  },
  {
   "cell_type": "code",
   "execution_count": 6,
   "metadata": {},
   "outputs": [],
   "source": [
    "# Normalize the target column (y) of the training dataset if train_dataset.regression is True, otherwise perform one-hot encoding on that column\n",
    "\n",
    "if train_dataset.regression:\n",
    "    Y = train_dataset.get_normalized_y()\n",
    "else:\n",
    "    Y = train_dataset.get_one_hot_encoded_y()"
   ]
  },
  {
   "cell_type": "markdown",
   "metadata": {},
   "source": [
    "## 1. Synhetic Data Generation"
   ]
  },
  {
   "cell_type": "code",
   "execution_count": null,
   "metadata": {},
   "outputs": [],
   "source": [
    "# Initialize the tabular synthetic data generator\n",
    "\n",
    "engine = TabularEngine(\n",
    "    layers_size=[50],\n",
    "    x_shape=X_train[0].shape,\n",
    "    y_shape=Y[0].shape,\n",
    "    numerical_feature_sizes=preprocessor.get_features_sizes()[0],\n",
    "    categorical_feature_sizes=preprocessor.get_features_sizes()[1],\n",
    ")\n",
    "\n",
    "# Start the training of the tabular synthetic data generator\n",
    "\n",
    "engine.fit(X_train, y_train_ds=Y, epochs=5, learning_rate=0.001)"
   ]
  },
  {
   "cell_type": "code",
   "execution_count": 10,
   "metadata": {},
   "outputs": [],
   "source": [
    "# Initilaize the Synthetsizer for data generation\n",
    "\n",
    "synthesizer = LabeledSynthesizer(train_dataset, engine)"
   ]
  },
  {
   "cell_type": "code",
   "execution_count": 11,
   "metadata": {
    "scrolled": true
   },
   "outputs": [],
   "source": [
    "# Generate the syntehtic dataset from the Synthesizer and save it to a .csv file\n",
    "\n",
    "pd_synthetic_dataset = synthesizer.generate(has_header=True)\n",
    "\n",
    "pd_synthetic_dataset.to_csv(\"synthetic_dataset.csv\", index=False)"
   ]
  },
  {
   "cell_type": "code",
   "execution_count": 12,
   "metadata": {},
   "outputs": [],
   "source": [
    "# Load the synethetic dataset\n",
    "\n",
    "synthetic_dataset = Dataset.from_csv(\n",
    "        \"synthetic_dataset.csv\",\n",
    "        column_types=train_dataset.column_types,  \n",
    "        target_column=train_dataset.target_column, \n",
    "        regression=train_dataset.regression\n",
    "    )"
   ]
  }
 ],
 "metadata": {
  "kernelspec": {
   "display_name": "projects",
   "language": "python",
   "name": "python3"
  },
  "language_info": {
   "codemirror_mode": {
    "name": "ipython",
    "version": 3
   },
   "file_extension": ".py",
   "mimetype": "text/x-python",
   "name": "python",
   "nbconvert_exporter": "python",
   "pygments_lexer": "ipython3",
   "version": "3.10.12"
  }
 },
 "nbformat": 4,
 "nbformat_minor": 2
}
