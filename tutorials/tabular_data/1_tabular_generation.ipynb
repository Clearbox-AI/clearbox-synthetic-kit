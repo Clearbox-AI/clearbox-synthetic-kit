{
 "cells": [
  {
   "cell_type": "markdown",
   "metadata": {},
   "source": [
    "# Tabular synthetic data \n",
    "### A generation example with **Clearbox Synthetic Kit**\n",
    "\n",
    "This notebook walks you through the tabular synthetic data generation process with **Clearbox Synthetic Kit**.\n",
    "\n",
    "You can run this notebook on Google Colab or on your local machine.<br> \n",
    "In the second case, we highly recommend to create a dedicated virtual environment."
   ]
  },
  {
   "cell_type": "markdown",
   "metadata": {},
   "source": [
    "<div class=\"alert alert-secondary\">\n",
    "To run this notebook, make sure you change the runtime to <strong>GPU</strong><br>\n",
    "<hr>\n",
    "<strong>Runtime</strong> --> <strong>Change Runtime Type</strong> <br>\n",
    "and set <strong>Hardware Accelerator</strong> to \"<strong>GPU</strong>\"\n",
    "</div>"
   ]
  },
  {
   "cell_type": "code",
   "execution_count": null,
   "metadata": {},
   "outputs": [],
   "source": [
    "# Install the library and other useful packages\n",
    "\n",
    "%pip install clearbox-synthetic-kit\n",
    "%pip install matplotlib\n",
    "%pip install seaborn"
   ]
  },
  {
   "cell_type": "code",
   "execution_count": null,
   "metadata": {},
   "outputs": [],
   "source": [
    "# Import necessary dependencies\n",
    "import os\n",
    "\n",
    "from clearbox_synthetic.utils import Dataset\n",
    "from clearbox_synthetic.generation import TabularEngine"
   ]
  },
  {
   "cell_type": "markdown",
   "metadata": {},
   "source": [
    "## 0. Data import"
   ]
  },
  {
   "cell_type": "code",
   "execution_count": null,
   "metadata": {},
   "outputs": [],
   "source": [
    "# Load the example datasets from GitHub\n",
    "\n",
    "file_path = \"https://raw.githubusercontent.com/Clearbox-AI/clearbox-synthetic-kit/main/tests/resources/uci_adult_dataset\"\n",
    "\n",
    "train_dataset = Dataset.from_csv(\n",
    "        os.path.join(file_path, \"dataset.csv\"),\n",
    "        target_column=\"income\",\n",
    "        ml_task=\"classification\"\n",
    "    )"
   ]
  },
  {
   "cell_type": "markdown",
   "metadata": {},
   "source": [
    "## 1. Synhetic Data Generation"
   ]
  },
  {
   "cell_type": "code",
   "execution_count": null,
   "metadata": {},
   "outputs": [],
   "source": [
    "# Initialize the tabular synthetic data generator\n",
    "engine = TabularEngine(train_dataset)\n",
    "\n",
    "# Start the training of the tabular synthetic data generator\n",
    "engine.fit(train_dataset, epochs=5, learning_rate=0.001)"
   ]
  },
  {
   "cell_type": "code",
   "execution_count": null,
   "metadata": {
    "scrolled": true
   },
   "outputs": [],
   "source": [
    "# Generate the syntehtic dataset from the Synthesizer and save it to a .csv file\n",
    "synthetic_df = engine.generate(train_dataset)\n",
    "synthetic_df.to_csv(\"synthetic_dataset.csv\", index=False)"
   ]
  },
  {
   "cell_type": "code",
   "execution_count": null,
   "metadata": {},
   "outputs": [],
   "source": [
    "# Load the synethetic dataset with the Dataset class\n",
    "synthetic_dataset = Dataset.from_csv(\n",
    "        \"synthetic_dataset.csv\",\n",
    "        column_types  = train_dataset.column_types,  \n",
    "        target_column = train_dataset.target_column, \n",
    "        ml_task       = train_dataset.ml_task\n",
    "    )"
   ]
  },
  {
   "cell_type": "markdown",
   "metadata": {},
   "source": [
    "# 2. Compare the results"
   ]
  },
  {
   "cell_type": "markdown",
   "metadata": {},
   "source": [
    "Compare the distributions of "
   ]
  },
  {
   "cell_type": "code",
   "execution_count": null,
   "metadata": {},
   "outputs": [],
   "source": [
    "import matplotlib.pyplot as plt\n",
    "import seaborn as sns\n",
    "\n",
    "def plot_column_distribution(\n",
    "        df1, \n",
    "        column, \n",
    "        df2=None, \n",
    "        df3=None, \n",
    "        df1_label=\"df_1\", \n",
    "        df2_label=\"df_2\", \n",
    "        df3_label=\"df_3\", \n",
    "        bins=100, \n",
    "        kde=True, \n",
    "        x_min=None, \n",
    "        x_max=None, \n",
    "        normalization=False\n",
    "    ):\n",
    "\n",
    "    if normalization:\n",
    "        stat = \"density\"\n",
    "        norm=\" (normalized)\" \n",
    "    else:\n",
    "        stat=\"count\"\n",
    "        norm=\"\"\n",
    "        \n",
    "    plt.figure(figsize=(10, 5))\n",
    "\n",
    "    # Plot distributions\n",
    "    sns.histplot(df1[column], bins=bins, kde=kde, color=\"blue\", alpha=0.4, label=df1_label, stat=stat)\n",
    "    if df2 is not None:\n",
    "        sns.histplot(df2[column], bins=bins, kde=kde, color=\"red\", alpha=0.4, label=df2_label, stat=stat)\n",
    "    if df3 is not None:\n",
    "        sns.histplot(df3[column], bins=bins, kde=kde, color=\"green\", alpha=0.4, label=df3_label, stat=stat)\n",
    "\n",
    "    # Labels & Title\n",
    "    plt.xlabel(column)\n",
    "    plt.ylabel(\"Count\")\n",
    "    plt.title(f\"Comparison of {column} distributions\"+norm)\n",
    "    plt.legend()\n",
    "    plt.grid(True)\n",
    "    if x_min is not None and x_max is not None:\n",
    "        plt.xlim([x_min,x_max])\n",
    "    if column in engine.preprocessor.categorical_features:\n",
    "        plt.xticks(rotation=45, ha=\"right\")\n",
    "    plt.show()\n"
   ]
  },
  {
   "cell_type": "code",
   "execution_count": null,
   "metadata": {},
   "outputs": [],
   "source": [
    "print(\"Choose a column to compare among theese:\")\n",
    "train_dataset.columns()"
   ]
  },
  {
   "cell_type": "code",
   "execution_count": null,
   "metadata": {},
   "outputs": [],
   "source": [
    "# Choose a column of the dataset and compare its synthetic and original distribution\n",
    "col = \"age\"\n",
    "\n",
    "plot_column_distribution(\n",
    "    train_dataset.data, \n",
    "    col, \n",
    "    synthetic_df, \n",
    "    df1_label=\"Original\", \n",
    "    df2_label=\"Synthetic\",\n",
    "    bins=50,\n",
    "    normalization=True)"
   ]
  }
 ],
 "metadata": {
  "kernelspec": {
   "display_name": "projects",
   "language": "python",
   "name": "python3"
  },
  "language_info": {
   "codemirror_mode": {
    "name": "ipython",
    "version": 3
   },
   "file_extension": ".py",
   "mimetype": "text/x-python",
   "name": "python",
   "nbconvert_exporter": "python",
   "pygments_lexer": "ipython3",
   "version": "3.10.12"
  }
 },
 "nbformat": 4,
 "nbformat_minor": 2
}
